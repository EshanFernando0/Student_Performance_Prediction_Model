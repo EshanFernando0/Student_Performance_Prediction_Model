{
  "nbformat": 4,
  "nbformat_minor": 0,
  "metadata": {
    "colab": {
      "provenance": []
    },
    "kernelspec": {
      "name": "python3",
      "display_name": "Python 3"
    },
    "language_info": {
      "name": "python"
    }
  },
  "cells": [
    {
      "cell_type": "code",
      "source": [
        "import pandas as pd\n",
        "import numpy as np\n",
        "\n",
        "# 1. Load the CSV\n",
        "df = pd.read_csv(\"student_dataset_cleaned.csv\", encoding=\"latin1\")"
      ],
      "metadata": {
        "id": "a2UQJ3N8Sdm6"
      },
      "execution_count": null,
      "outputs": []
    },
    {
      "cell_type": "code",
      "source": [
        "# 2. Drop Student ID column\n",
        "if \"Student ID\" in df.columns:\n",
        "    df = df.drop(columns=[\"Student ID\"])"
      ],
      "metadata": {
        "id": "uLCz9AkDSfEr"
      },
      "execution_count": null,
      "outputs": []
    },
    {
      "cell_type": "code",
      "source": [
        "# 3. Strip whitespace from all columns and entries\n",
        "df.columns = [col.strip() for col in df.columns]\n",
        "for col in df.columns:\n",
        "    df[col] = df[col].astype(str).str.strip()"
      ],
      "metadata": {
        "id": "gGDTnt3ESfNb"
      },
      "execution_count": null,
      "outputs": []
    },
    {
      "cell_type": "code",
      "source": [
        "# 4. Map grade letters to numbers (target)\n",
        "grade_map = {\n",
        "    \"A+\": 4.0, \"A\": 4.0, \"A-\": 3.7, \"B+\": 3.3, \"B\": 3.0, \"B-\": 2.7,\n",
        "    \"C+\": 2.3, \"C\": 2.0, \"C-\": 1.7, \"Below C-\": 1.0,\n",
        "    \"F\": 0, \"D\": 1.0, \"D+\": 1.3,\n",
        "}\n",
        "df[\"Subject_Grade_Num\"] = df[\"Subject Grade\"].map(grade_map)\n",
        "df[\"Subject_Grade_Num\"] = df[\"Subject_Grade_Num\"].fillna(df[\"Subject_Grade_Num\"].mean())"
      ],
      "metadata": {
        "id": "ltettZCCSfQy"
      },
      "execution_count": null,
      "outputs": []
    },
    {
      "cell_type": "code",
      "source": [
        "# 5. Map Study Hours per Day to numeric\n",
        "study_hours_map = {\n",
        "    \"Less than 1 hour\": 0.5,\n",
        "    \"1 - 2 hours\": 1.5,\n",
        "    \"2 - 4 hours\": 3,\n",
        "    \"more than 4 hours\": 5,\n",
        "}\n",
        "df[\"Study_Hours_Num\"] = df[\"Study Hours per Day\"].map(study_hours_map).fillna(1.5)"
      ],
      "metadata": {
        "id": "35owU6HQSde7"
      },
      "execution_count": null,
      "outputs": []
    },
    {
      "cell_type": "code",
      "source": [
        "# 6. Map Lecture Attendance to numeric (fraction)\n",
        "attendance_map = {\n",
        "    \"Always(100%)\": 1.0,\n",
        "    \"Often (75 - 99%)\": 0.87,\n",
        "    \"Sometimes(50 - 74%)\": 0.62,\n",
        "    \"Rarely (25 - 49%)\": 0.37,\n",
        "    \"Very rarely (1 - 24%)\": 0.12,\n",
        "    \"Never(0%)\": 0.0,\n",
        "}\n",
        "df[\"Lecture_Attendance_Num\"] = df[\"Lecture Attendance\"].map(attendance_map).fillna(0.5)"
      ],
      "metadata": {
        "id": "i-RiHevVSdVa"
      },
      "execution_count": null,
      "outputs": []
    },
    {
      "cell_type": "code",
      "source": [
        "# 7. Map Assignment Completion on Time to numeric (fraction)\n",
        "assignment_map = {\n",
        "    \"Always (100%)\": 1.0,\n",
        "    \"Often (75 - 99%)\": 0.87,\n",
        "    \"Sometimes (50 - 74%)\": 0.62,\n",
        "    \"Rarely (25 - 49%)\": 0.37,\n",
        "    \"Very rarely (1 - 24%)\": 0.12,\n",
        "    \"Never(0%)\": 0.0,\n",
        "}\n",
        "df[\"Assignment_Completion_Num\"] = df[\"Assignment Completion on Time\"].map(assignment_map).fillna(0.5)"
      ],
      "metadata": {
        "id": "MCeZ2Eb6SdSC"
      },
      "execution_count": null,
      "outputs": []
    },
    {
      "cell_type": "code",
      "source": [
        "# 8. Map CGPA / GPA to numeric (midpoint for ranges)\n",
        "gpa_map = {\n",
        "    \"Above 3.5\": 3.75,\n",
        "    \"3.0 – 3.5\": 3.25,\n",
        "    \"2.5 – 3.0\": 2.75,\n",
        "    \"2.0 – 2.5\": 2.25,\n",
        "    \"Below 2.0\": 1.75,\n",
        "}\n",
        "# Handle possible unicode dash variants\n",
        "df[\"CGPA / GPA\"] = df[\"CGPA / GPA\"].str.replace('–', '-', regex=False)\n",
        "gpa_map_flexible = {k.replace('–', '-'): v for k, v in gpa_map.items()}\n",
        "df[\"GPA_Num\"] = df[\"CGPA / GPA\"].map(gpa_map_flexible).fillna(2.5)"
      ],
      "metadata": {
        "id": "vIrGwu1HSdPM"
      },
      "execution_count": null,
      "outputs": []
    },
    {
      "cell_type": "code",
      "source": [
        "# 9. Encode Note-Taking Method, Study Schedule, Best Study Method with one-hot encoding\n",
        "onehot_cols = [\n",
        "    \"Note-Taking Method\", \"Study Schedule\", \"Best Study Method\"\n",
        "]\n",
        "df = pd.get_dummies(df, columns=onehot_cols, drop_first=False)"
      ],
      "metadata": {
        "id": "19jgJvmlSdMS"
      },
      "execution_count": null,
      "outputs": []
    },
    {
      "cell_type": "code",
      "source": [
        "# 10. Select features and target for modeling\n",
        "features = [\n",
        "    \"Study_Hours_Num\",\n",
        "    \"Lecture_Attendance_Num\",\n",
        "    \"Assignment_Completion_Num\",\n",
        "    \"GPA_Num\"\n",
        "] + [col for col in df.columns if col.startswith(\"Note-Taking Method_\") or col.startswith(\"Study Schedule_\") or col.startswith(\"Best Study Method_\")]\n",
        "\n",
        "target = \"Subject_Grade_Num\"\n",
        "\n",
        "# 11. Save processed features and target as new CSVs (optional)\n",
        "df[features].to_csv(\"student_features_processed.csv\", index=False)\n",
        "df[[target]].to_csv(\"student_target_processed.csv\", index=False)"
      ],
      "metadata": {
        "id": "GQ0uZfIySdJT"
      },
      "execution_count": null,
      "outputs": []
    },
    {
      "cell_type": "code",
      "source": [
        "# 12. Print shapes as check\n",
        "print(\"Features shape:\", df[features].shape)\n",
        "print(\"Target shape:\", df[[target]].shape)"
      ],
      "metadata": {
        "colab": {
          "base_uri": "https://localhost:8080/"
        },
        "id": "ijNob-SCSdGV",
        "outputId": "a5548a76-8f14-4b92-ca62-120cc49bd187"
      },
      "execution_count": null,
      "outputs": [
        {
          "output_type": "stream",
          "name": "stdout",
          "text": [
            "Features shape: (300, 19)\n",
            "Target shape: (300, 1)\n"
          ]
        }
      ]
    },
    {
      "cell_type": "code",
      "source": [
        "# Example: use X, y for plugging into your ML pipeline\n",
        "X = df[features].values\n",
        "y = df[target].values"
      ],
      "metadata": {
        "id": "NBIlV8u1SdCz"
      },
      "execution_count": null,
      "outputs": []
    },
    {
      "cell_type": "code",
      "source": [
        "# ----------- 5. SPLIT AND SCALE -----------\n",
        "# Use the features list from your preprocessing step\n",
        "X = df[features].values.astype(np.float32)\n",
        "y = df[target].values.astype(np.float32)\n",
        "\n",
        "from sklearn.model_selection import train_test_split\n",
        "from sklearn.preprocessing import MinMaxScaler\n",
        "import joblib\n",
        "\n",
        "X_train, X_test, y_train, y_test = train_test_split(X, y, test_size=0.2, random_state=42)\n",
        "scaler = MinMaxScaler()\n",
        "X_train_scaled = scaler.fit_transform(X_train)\n",
        "X_test_scaled = scaler.transform(X_test)\n",
        "joblib.dump(scaler, \"scaler.save\")\n",
        "joblib.dump(features, \"feature_cols.save\")\n"
      ],
      "metadata": {
        "colab": {
          "base_uri": "https://localhost:8080/"
        },
        "id": "FRDRvjBdP6MF",
        "outputId": "757a4ffd-3aeb-46d5-b683-2758e4311d4d"
      },
      "execution_count": null,
      "outputs": [
        {
          "output_type": "execute_result",
          "data": {
            "text/plain": [
              "['feature_cols.save']"
            ]
          },
          "metadata": {},
          "execution_count": 13
        }
      ]
    },
    {
      "cell_type": "code",
      "source": [
        "# ----------- 6. BUILD AND TRAIN MODEL -----------\n",
        "from tensorflow.keras.models import Sequential\n",
        "from tensorflow.keras.layers import Dense\n",
        "from tensorflow.keras.callbacks import EarlyStopping\n",
        "\n",
        "model = Sequential([\n",
        "    Dense(64, activation='relu', input_shape=(X_train_scaled.shape[1],)),\n",
        "    Dense(32, activation='relu'),\n",
        "    Dense(1)\n",
        "])\n",
        "model.compile(optimizer='adam', loss='mse', metrics=['mae'])\n",
        "early_stop = EarlyStopping(monitor='val_loss', patience=10, restore_best_weights=True)\n",
        "history = model.fit(\n",
        "    X_train_scaled, y_train,\n",
        "    epochs=100,\n",
        "    batch_size=16,\n",
        "    validation_split=0.2,\n",
        "    callbacks=[early_stop],\n",
        "    verbose=1\n",
        ")\n",
        "model.save(\"student_performance_model.keras\")\n",
        "\n",
        "# Show model summary\n",
        "model.summary()"
      ],
      "metadata": {
        "colab": {
          "base_uri": "https://localhost:8080/",
          "height": 1000
        },
        "id": "6E1MSBDIP9Yd",
        "outputId": "30683af9-0b73-4222-d4c8-5af04b216a2f"
      },
      "execution_count": null,
      "outputs": [
        {
          "output_type": "stream",
          "name": "stdout",
          "text": [
            "Epoch 1/100\n"
          ]
        },
        {
          "output_type": "stream",
          "name": "stderr",
          "text": [
            "/usr/local/lib/python3.12/dist-packages/keras/src/layers/core/dense.py:93: UserWarning: Do not pass an `input_shape`/`input_dim` argument to a layer. When using Sequential models, prefer using an `Input(shape)` object as the first layer in the model instead.\n",
            "  super().__init__(activity_regularizer=activity_regularizer, **kwargs)\n"
          ]
        },
        {
          "output_type": "stream",
          "name": "stdout",
          "text": [
            "\u001b[1m12/12\u001b[0m \u001b[32m━━━━━━━━━━━━━━━━━━━━\u001b[0m\u001b[37m\u001b[0m \u001b[1m1s\u001b[0m 27ms/step - loss: 8.5397 - mae: 2.7727 - val_loss: 6.9202 - val_mae: 2.5186\n",
            "Epoch 2/100\n",
            "\u001b[1m12/12\u001b[0m \u001b[32m━━━━━━━━━━━━━━━━━━━━\u001b[0m\u001b[37m\u001b[0m \u001b[1m0s\u001b[0m 14ms/step - loss: 5.9342 - mae: 2.2866 - val_loss: 4.3557 - val_mae: 1.9583\n",
            "Epoch 3/100\n",
            "\u001b[1m12/12\u001b[0m \u001b[32m━━━━━━━━━━━━━━━━━━━━\u001b[0m\u001b[37m\u001b[0m \u001b[1m0s\u001b[0m 13ms/step - loss: 3.2623 - mae: 1.6342 - val_loss: 1.8216 - val_mae: 1.1897\n",
            "Epoch 4/100\n",
            "\u001b[1m12/12\u001b[0m \u001b[32m━━━━━━━━━━━━━━━━━━━━\u001b[0m\u001b[37m\u001b[0m \u001b[1m0s\u001b[0m 11ms/step - loss: 1.1658 - mae: 0.9085 - val_loss: 0.3586 - val_mae: 0.4937\n",
            "Epoch 5/100\n",
            "\u001b[1m12/12\u001b[0m \u001b[32m━━━━━━━━━━━━━━━━━━━━\u001b[0m\u001b[37m\u001b[0m \u001b[1m0s\u001b[0m 14ms/step - loss: 0.2462 - mae: 0.4176 - val_loss: 0.2860 - val_mae: 0.4415\n",
            "Epoch 6/100\n",
            "\u001b[1m12/12\u001b[0m \u001b[32m━━━━━━━━━━━━━━━━━━━━\u001b[0m\u001b[37m\u001b[0m \u001b[1m0s\u001b[0m 11ms/step - loss: 0.2028 - mae: 0.3701 - val_loss: 0.1359 - val_mae: 0.3063\n",
            "Epoch 7/100\n",
            "\u001b[1m12/12\u001b[0m \u001b[32m━━━━━━━━━━━━━━━━━━━━\u001b[0m\u001b[37m\u001b[0m \u001b[1m0s\u001b[0m 14ms/step - loss: 0.0983 - mae: 0.2587 - val_loss: 0.1012 - val_mae: 0.2571\n",
            "Epoch 8/100\n",
            "\u001b[1m12/12\u001b[0m \u001b[32m━━━━━━━━━━━━━━━━━━━━\u001b[0m\u001b[37m\u001b[0m \u001b[1m0s\u001b[0m 13ms/step - loss: 0.0840 - mae: 0.2365 - val_loss: 0.0839 - val_mae: 0.2333\n",
            "Epoch 9/100\n",
            "\u001b[1m12/12\u001b[0m \u001b[32m━━━━━━━━━━━━━━━━━━━━\u001b[0m\u001b[37m\u001b[0m \u001b[1m0s\u001b[0m 14ms/step - loss: 0.0717 - mae: 0.2186 - val_loss: 0.0754 - val_mae: 0.2223\n",
            "Epoch 10/100\n",
            "\u001b[1m12/12\u001b[0m \u001b[32m━━━━━━━━━━━━━━━━━━━━\u001b[0m\u001b[37m\u001b[0m \u001b[1m0s\u001b[0m 14ms/step - loss: 0.0636 - mae: 0.2018 - val_loss: 0.0658 - val_mae: 0.2046\n",
            "Epoch 11/100\n",
            "\u001b[1m12/12\u001b[0m \u001b[32m━━━━━━━━━━━━━━━━━━━━\u001b[0m\u001b[37m\u001b[0m \u001b[1m0s\u001b[0m 10ms/step - loss: 0.0519 - mae: 0.1793 - val_loss: 0.0600 - val_mae: 0.1939\n",
            "Epoch 12/100\n",
            "\u001b[1m12/12\u001b[0m \u001b[32m━━━━━━━━━━━━━━━━━━━━\u001b[0m\u001b[37m\u001b[0m \u001b[1m0s\u001b[0m 7ms/step - loss: 0.0564 - mae: 0.1884 - val_loss: 0.0555 - val_mae: 0.1850\n",
            "Epoch 13/100\n",
            "\u001b[1m12/12\u001b[0m \u001b[32m━━━━━━━━━━━━━━━━━━━━\u001b[0m\u001b[37m\u001b[0m \u001b[1m0s\u001b[0m 7ms/step - loss: 0.0568 - mae: 0.1873 - val_loss: 0.0491 - val_mae: 0.1791\n",
            "Epoch 14/100\n",
            "\u001b[1m12/12\u001b[0m \u001b[32m━━━━━━━━━━━━━━━━━━━━\u001b[0m\u001b[37m\u001b[0m \u001b[1m0s\u001b[0m 8ms/step - loss: 0.0464 - mae: 0.1696 - val_loss: 0.0461 - val_mae: 0.1671\n",
            "Epoch 15/100\n",
            "\u001b[1m12/12\u001b[0m \u001b[32m━━━━━━━━━━━━━━━━━━━━\u001b[0m\u001b[37m\u001b[0m \u001b[1m0s\u001b[0m 7ms/step - loss: 0.0472 - mae: 0.1661 - val_loss: 0.0419 - val_mae: 0.1634\n",
            "Epoch 16/100\n",
            "\u001b[1m12/12\u001b[0m \u001b[32m━━━━━━━━━━━━━━━━━━━━\u001b[0m\u001b[37m\u001b[0m \u001b[1m0s\u001b[0m 7ms/step - loss: 0.0436 - mae: 0.1598 - val_loss: 0.0397 - val_mae: 0.1585\n",
            "Epoch 17/100\n",
            "\u001b[1m12/12\u001b[0m \u001b[32m━━━━━━━━━━━━━━━━━━━━\u001b[0m\u001b[37m\u001b[0m \u001b[1m0s\u001b[0m 7ms/step - loss: 0.0449 - mae: 0.1644 - val_loss: 0.0380 - val_mae: 0.1565\n",
            "Epoch 18/100\n",
            "\u001b[1m12/12\u001b[0m \u001b[32m━━━━━━━━━━━━━━━━━━━━\u001b[0m\u001b[37m\u001b[0m \u001b[1m0s\u001b[0m 7ms/step - loss: 0.0360 - mae: 0.1467 - val_loss: 0.0358 - val_mae: 0.1540\n",
            "Epoch 19/100\n",
            "\u001b[1m12/12\u001b[0m \u001b[32m━━━━━━━━━━━━━━━━━━━━\u001b[0m\u001b[37m\u001b[0m \u001b[1m0s\u001b[0m 7ms/step - loss: 0.0369 - mae: 0.1441 - val_loss: 0.0350 - val_mae: 0.1499\n",
            "Epoch 20/100\n",
            "\u001b[1m12/12\u001b[0m \u001b[32m━━━━━━━━━━━━━━━━━━━━\u001b[0m\u001b[37m\u001b[0m \u001b[1m0s\u001b[0m 11ms/step - loss: 0.0404 - mae: 0.1495 - val_loss: 0.0342 - val_mae: 0.1493\n",
            "Epoch 21/100\n",
            "\u001b[1m12/12\u001b[0m \u001b[32m━━━━━━━━━━━━━━━━━━━━\u001b[0m\u001b[37m\u001b[0m \u001b[1m0s\u001b[0m 7ms/step - loss: 0.0392 - mae: 0.1482 - val_loss: 0.0333 - val_mae: 0.1465\n",
            "Epoch 22/100\n",
            "\u001b[1m12/12\u001b[0m \u001b[32m━━━━━━━━━━━━━━━━━━━━\u001b[0m\u001b[37m\u001b[0m \u001b[1m0s\u001b[0m 9ms/step - loss: 0.0428 - mae: 0.1569 - val_loss: 0.0324 - val_mae: 0.1468\n",
            "Epoch 23/100\n",
            "\u001b[1m12/12\u001b[0m \u001b[32m━━━━━━━━━━━━━━━━━━━━\u001b[0m\u001b[37m\u001b[0m \u001b[1m0s\u001b[0m 7ms/step - loss: 0.0401 - mae: 0.1556 - val_loss: 0.0314 - val_mae: 0.1414\n",
            "Epoch 24/100\n",
            "\u001b[1m12/12\u001b[0m \u001b[32m━━━━━━━━━━━━━━━━━━━━\u001b[0m\u001b[37m\u001b[0m \u001b[1m0s\u001b[0m 7ms/step - loss: 0.0387 - mae: 0.1510 - val_loss: 0.0311 - val_mae: 0.1422\n",
            "Epoch 25/100\n",
            "\u001b[1m12/12\u001b[0m \u001b[32m━━━━━━━━━━━━━━━━━━━━\u001b[0m\u001b[37m\u001b[0m \u001b[1m0s\u001b[0m 7ms/step - loss: 0.0313 - mae: 0.1332 - val_loss: 0.0301 - val_mae: 0.1387\n",
            "Epoch 26/100\n",
            "\u001b[1m12/12\u001b[0m \u001b[32m━━━━━━━━━━━━━━━━━━━━\u001b[0m\u001b[37m\u001b[0m \u001b[1m0s\u001b[0m 8ms/step - loss: 0.0344 - mae: 0.1412 - val_loss: 0.0303 - val_mae: 0.1418\n",
            "Epoch 27/100\n",
            "\u001b[1m12/12\u001b[0m \u001b[32m━━━━━━━━━━━━━━━━━━━━\u001b[0m\u001b[37m\u001b[0m \u001b[1m0s\u001b[0m 7ms/step - loss: 0.0330 - mae: 0.1400 - val_loss: 0.0304 - val_mae: 0.1412\n",
            "Epoch 28/100\n",
            "\u001b[1m12/12\u001b[0m \u001b[32m━━━━━━━━━━━━━━━━━━━━\u001b[0m\u001b[37m\u001b[0m \u001b[1m0s\u001b[0m 7ms/step - loss: 0.0401 - mae: 0.1504 - val_loss: 0.0293 - val_mae: 0.1356\n",
            "Epoch 29/100\n",
            "\u001b[1m12/12\u001b[0m \u001b[32m━━━━━━━━━━━━━━━━━━━━\u001b[0m\u001b[37m\u001b[0m \u001b[1m0s\u001b[0m 7ms/step - loss: 0.0293 - mae: 0.1319 - val_loss: 0.0295 - val_mae: 0.1390\n",
            "Epoch 30/100\n",
            "\u001b[1m12/12\u001b[0m \u001b[32m━━━━━━━━━━━━━━━━━━━━\u001b[0m\u001b[37m\u001b[0m \u001b[1m0s\u001b[0m 7ms/step - loss: 0.0327 - mae: 0.1375 - val_loss: 0.0299 - val_mae: 0.1390\n",
            "Epoch 31/100\n",
            "\u001b[1m12/12\u001b[0m \u001b[32m━━━━━━━━━━━━━━━━━━━━\u001b[0m\u001b[37m\u001b[0m \u001b[1m0s\u001b[0m 8ms/step - loss: 0.0322 - mae: 0.1368 - val_loss: 0.0296 - val_mae: 0.1401\n",
            "Epoch 32/100\n",
            "\u001b[1m12/12\u001b[0m \u001b[32m━━━━━━━━━━━━━━━━━━━━\u001b[0m\u001b[37m\u001b[0m \u001b[1m0s\u001b[0m 7ms/step - loss: 0.0312 - mae: 0.1325 - val_loss: 0.0291 - val_mae: 0.1374\n",
            "Epoch 33/100\n",
            "\u001b[1m12/12\u001b[0m \u001b[32m━━━━━━━━━━━━━━━━━━━━\u001b[0m\u001b[37m\u001b[0m \u001b[1m0s\u001b[0m 7ms/step - loss: 0.0284 - mae: 0.1282 - val_loss: 0.0293 - val_mae: 0.1369\n",
            "Epoch 34/100\n",
            "\u001b[1m12/12\u001b[0m \u001b[32m━━━━━━━━━━━━━━━━━━━━\u001b[0m\u001b[37m\u001b[0m \u001b[1m0s\u001b[0m 7ms/step - loss: 0.0305 - mae: 0.1302 - val_loss: 0.0277 - val_mae: 0.1334\n",
            "Epoch 35/100\n",
            "\u001b[1m12/12\u001b[0m \u001b[32m━━━━━━━━━━━━━━━━━━━━\u001b[0m\u001b[37m\u001b[0m \u001b[1m0s\u001b[0m 7ms/step - loss: 0.0319 - mae: 0.1342 - val_loss: 0.0288 - val_mae: 0.1351\n",
            "Epoch 36/100\n",
            "\u001b[1m12/12\u001b[0m \u001b[32m━━━━━━━━━━━━━━━━━━━━\u001b[0m\u001b[37m\u001b[0m \u001b[1m0s\u001b[0m 8ms/step - loss: 0.0330 - mae: 0.1365 - val_loss: 0.0285 - val_mae: 0.1347\n",
            "Epoch 37/100\n",
            "\u001b[1m12/12\u001b[0m \u001b[32m━━━━━━━━━━━━━━━━━━━━\u001b[0m\u001b[37m\u001b[0m \u001b[1m0s\u001b[0m 7ms/step - loss: 0.0321 - mae: 0.1369 - val_loss: 0.0286 - val_mae: 0.1344\n",
            "Epoch 38/100\n",
            "\u001b[1m12/12\u001b[0m \u001b[32m━━━━━━━━━━━━━━━━━━━━\u001b[0m\u001b[37m\u001b[0m \u001b[1m0s\u001b[0m 7ms/step - loss: 0.0239 - mae: 0.1102 - val_loss: 0.0274 - val_mae: 0.1308\n",
            "Epoch 39/100\n",
            "\u001b[1m12/12\u001b[0m \u001b[32m━━━━━━━━━━━━━━━━━━━━\u001b[0m\u001b[37m\u001b[0m \u001b[1m0s\u001b[0m 9ms/step - loss: 0.0280 - mae: 0.1250 - val_loss: 0.0268 - val_mae: 0.1295\n",
            "Epoch 40/100\n",
            "\u001b[1m12/12\u001b[0m \u001b[32m━━━━━━━━━━━━━━━━━━━━\u001b[0m\u001b[37m\u001b[0m \u001b[1m0s\u001b[0m 7ms/step - loss: 0.0265 - mae: 0.1202 - val_loss: 0.0275 - val_mae: 0.1300\n",
            "Epoch 41/100\n",
            "\u001b[1m12/12\u001b[0m \u001b[32m━━━━━━━━━━━━━━━━━━━━\u001b[0m\u001b[37m\u001b[0m \u001b[1m0s\u001b[0m 7ms/step - loss: 0.0270 - mae: 0.1248 - val_loss: 0.0288 - val_mae: 0.1328\n",
            "Epoch 42/100\n",
            "\u001b[1m12/12\u001b[0m \u001b[32m━━━━━━━━━━━━━━━━━━━━\u001b[0m\u001b[37m\u001b[0m \u001b[1m0s\u001b[0m 8ms/step - loss: 0.0311 - mae: 0.1205 - val_loss: 0.0265 - val_mae: 0.1264\n",
            "Epoch 43/100\n",
            "\u001b[1m12/12\u001b[0m \u001b[32m━━━━━━━━━━━━━━━━━━━━\u001b[0m\u001b[37m\u001b[0m \u001b[1m0s\u001b[0m 7ms/step - loss: 0.0247 - mae: 0.1201 - val_loss: 0.0263 - val_mae: 0.1296\n",
            "Epoch 44/100\n",
            "\u001b[1m12/12\u001b[0m \u001b[32m━━━━━━━━━━━━━━━━━━━━\u001b[0m\u001b[37m\u001b[0m \u001b[1m0s\u001b[0m 7ms/step - loss: 0.0272 - mae: 0.1290 - val_loss: 0.0276 - val_mae: 0.1276\n",
            "Epoch 45/100\n",
            "\u001b[1m12/12\u001b[0m \u001b[32m━━━━━━━━━━━━━━━━━━━━\u001b[0m\u001b[37m\u001b[0m \u001b[1m0s\u001b[0m 7ms/step - loss: 0.0248 - mae: 0.1178 - val_loss: 0.0260 - val_mae: 0.1282\n",
            "Epoch 46/100\n",
            "\u001b[1m12/12\u001b[0m \u001b[32m━━━━━━━━━━━━━━━━━━━━\u001b[0m\u001b[37m\u001b[0m \u001b[1m0s\u001b[0m 7ms/step - loss: 0.0271 - mae: 0.1228 - val_loss: 0.0250 - val_mae: 0.1257\n",
            "Epoch 47/100\n",
            "\u001b[1m12/12\u001b[0m \u001b[32m━━━━━━━━━━━━━━━━━━━━\u001b[0m\u001b[37m\u001b[0m \u001b[1m0s\u001b[0m 7ms/step - loss: 0.0239 - mae: 0.1194 - val_loss: 0.0264 - val_mae: 0.1285\n",
            "Epoch 48/100\n",
            "\u001b[1m12/12\u001b[0m \u001b[32m━━━━━━━━━━━━━━━━━━━━\u001b[0m\u001b[37m\u001b[0m \u001b[1m0s\u001b[0m 8ms/step - loss: 0.0261 - mae: 0.1176 - val_loss: 0.0264 - val_mae: 0.1295\n",
            "Epoch 49/100\n",
            "\u001b[1m12/12\u001b[0m \u001b[32m━━━━━━━━━━━━━━━━━━━━\u001b[0m\u001b[37m\u001b[0m \u001b[1m0s\u001b[0m 8ms/step - loss: 0.0277 - mae: 0.1246 - val_loss: 0.0256 - val_mae: 0.1253\n",
            "Epoch 50/100\n",
            "\u001b[1m12/12\u001b[0m \u001b[32m━━━━━━━━━━━━━━━━━━━━\u001b[0m\u001b[37m\u001b[0m \u001b[1m0s\u001b[0m 8ms/step - loss: 0.0245 - mae: 0.1150 - val_loss: 0.0260 - val_mae: 0.1301\n",
            "Epoch 51/100\n",
            "\u001b[1m12/12\u001b[0m \u001b[32m━━━━━━━━━━━━━━━━━━━━\u001b[0m\u001b[37m\u001b[0m \u001b[1m0s\u001b[0m 7ms/step - loss: 0.0294 - mae: 0.1245 - val_loss: 0.0253 - val_mae: 0.1265\n",
            "Epoch 52/100\n",
            "\u001b[1m12/12\u001b[0m \u001b[32m━━━━━━━━━━━━━━━━━━━━\u001b[0m\u001b[37m\u001b[0m \u001b[1m0s\u001b[0m 7ms/step - loss: 0.0248 - mae: 0.1159 - val_loss: 0.0248 - val_mae: 0.1266\n",
            "Epoch 53/100\n",
            "\u001b[1m12/12\u001b[0m \u001b[32m━━━━━━━━━━━━━━━━━━━━\u001b[0m\u001b[37m\u001b[0m \u001b[1m0s\u001b[0m 7ms/step - loss: 0.0203 - mae: 0.1040 - val_loss: 0.0254 - val_mae: 0.1280\n",
            "Epoch 54/100\n",
            "\u001b[1m12/12\u001b[0m \u001b[32m━━━━━━━━━━━━━━━━━━━━\u001b[0m\u001b[37m\u001b[0m \u001b[1m0s\u001b[0m 7ms/step - loss: 0.0224 - mae: 0.1151 - val_loss: 0.0247 - val_mae: 0.1270\n",
            "Epoch 55/100\n",
            "\u001b[1m12/12\u001b[0m \u001b[32m━━━━━━━━━━━━━━━━━━━━\u001b[0m\u001b[37m\u001b[0m \u001b[1m0s\u001b[0m 9ms/step - loss: 0.0219 - mae: 0.1098 - val_loss: 0.0234 - val_mae: 0.1220\n",
            "Epoch 56/100\n",
            "\u001b[1m12/12\u001b[0m \u001b[32m━━━━━━━━━━━━━━━━━━━━\u001b[0m\u001b[37m\u001b[0m \u001b[1m0s\u001b[0m 7ms/step - loss: 0.0235 - mae: 0.1138 - val_loss: 0.0238 - val_mae: 0.1245\n",
            "Epoch 57/100\n",
            "\u001b[1m12/12\u001b[0m \u001b[32m━━━━━━━━━━━━━━━━━━━━\u001b[0m\u001b[37m\u001b[0m \u001b[1m0s\u001b[0m 7ms/step - loss: 0.0215 - mae: 0.1048 - val_loss: 0.0234 - val_mae: 0.1250\n",
            "Epoch 58/100\n",
            "\u001b[1m12/12\u001b[0m \u001b[32m━━━━━━━━━━━━━━━━━━━━\u001b[0m\u001b[37m\u001b[0m \u001b[1m0s\u001b[0m 7ms/step - loss: 0.0232 - mae: 0.1110 - val_loss: 0.0237 - val_mae: 0.1246\n",
            "Epoch 59/100\n",
            "\u001b[1m12/12\u001b[0m \u001b[32m━━━━━━━━━━━━━━━━━━━━\u001b[0m\u001b[37m\u001b[0m \u001b[1m0s\u001b[0m 8ms/step - loss: 0.0220 - mae: 0.1126 - val_loss: 0.0232 - val_mae: 0.1246\n",
            "Epoch 60/100\n",
            "\u001b[1m12/12\u001b[0m \u001b[32m━━━━━━━━━━━━━━━━━━━━\u001b[0m\u001b[37m\u001b[0m \u001b[1m0s\u001b[0m 7ms/step - loss: 0.0210 - mae: 0.1097 - val_loss: 0.0235 - val_mae: 0.1235\n",
            "Epoch 61/100\n",
            "\u001b[1m12/12\u001b[0m \u001b[32m━━━━━━━━━━━━━━━━━━━━\u001b[0m\u001b[37m\u001b[0m \u001b[1m0s\u001b[0m 7ms/step - loss: 0.0207 - mae: 0.1072 - val_loss: 0.0234 - val_mae: 0.1232\n",
            "Epoch 62/100\n",
            "\u001b[1m12/12\u001b[0m \u001b[32m━━━━━━━━━━━━━━━━━━━━\u001b[0m\u001b[37m\u001b[0m \u001b[1m0s\u001b[0m 7ms/step - loss: 0.0198 - mae: 0.0993 - val_loss: 0.0225 - val_mae: 0.1242\n",
            "Epoch 63/100\n",
            "\u001b[1m12/12\u001b[0m \u001b[32m━━━━━━━━━━━━━━━━━━━━\u001b[0m\u001b[37m\u001b[0m \u001b[1m0s\u001b[0m 11ms/step - loss: 0.0243 - mae: 0.1177 - val_loss: 0.0229 - val_mae: 0.1215\n",
            "Epoch 64/100\n",
            "\u001b[1m12/12\u001b[0m \u001b[32m━━━━━━━━━━━━━━━━━━━━\u001b[0m\u001b[37m\u001b[0m \u001b[1m0s\u001b[0m 11ms/step - loss: 0.0221 - mae: 0.1070 - val_loss: 0.0227 - val_mae: 0.1227\n",
            "Epoch 65/100\n",
            "\u001b[1m12/12\u001b[0m \u001b[32m━━━━━━━━━━━━━━━━━━━━\u001b[0m\u001b[37m\u001b[0m \u001b[1m0s\u001b[0m 7ms/step - loss: 0.0212 - mae: 0.1050 - val_loss: 0.0228 - val_mae: 0.1217\n",
            "Epoch 66/100\n",
            "\u001b[1m12/12\u001b[0m \u001b[32m━━━━━━━━━━━━━━━━━━━━\u001b[0m\u001b[37m\u001b[0m \u001b[1m0s\u001b[0m 7ms/step - loss: 0.0225 - mae: 0.1070 - val_loss: 0.0229 - val_mae: 0.1254\n",
            "Epoch 67/100\n",
            "\u001b[1m12/12\u001b[0m \u001b[32m━━━━━━━━━━━━━━━━━━━━\u001b[0m\u001b[37m\u001b[0m \u001b[1m0s\u001b[0m 7ms/step - loss: 0.0202 - mae: 0.1067 - val_loss: 0.0231 - val_mae: 0.1204\n",
            "Epoch 68/100\n",
            "\u001b[1m12/12\u001b[0m \u001b[32m━━━━━━━━━━━━━━━━━━━━\u001b[0m\u001b[37m\u001b[0m \u001b[1m0s\u001b[0m 9ms/step - loss: 0.0209 - mae: 0.1058 - val_loss: 0.0217 - val_mae: 0.1239\n",
            "Epoch 69/100\n",
            "\u001b[1m12/12\u001b[0m \u001b[32m━━━━━━━━━━━━━━━━━━━━\u001b[0m\u001b[37m\u001b[0m \u001b[1m0s\u001b[0m 8ms/step - loss: 0.0177 - mae: 0.1023 - val_loss: 0.0213 - val_mae: 0.1176\n",
            "Epoch 70/100\n",
            "\u001b[1m12/12\u001b[0m \u001b[32m━━━━━━━━━━━━━━━━━━━━\u001b[0m\u001b[37m\u001b[0m \u001b[1m0s\u001b[0m 7ms/step - loss: 0.0208 - mae: 0.1031 - val_loss: 0.0214 - val_mae: 0.1224\n",
            "Epoch 71/100\n",
            "\u001b[1m12/12\u001b[0m \u001b[32m━━━━━━━━━━━━━━━━━━━━\u001b[0m\u001b[37m\u001b[0m \u001b[1m0s\u001b[0m 8ms/step - loss: 0.0215 - mae: 0.1116 - val_loss: 0.0224 - val_mae: 0.1214\n",
            "Epoch 72/100\n",
            "\u001b[1m12/12\u001b[0m \u001b[32m━━━━━━━━━━━━━━━━━━━━\u001b[0m\u001b[37m\u001b[0m \u001b[1m0s\u001b[0m 7ms/step - loss: 0.0194 - mae: 0.0997 - val_loss: 0.0223 - val_mae: 0.1220\n",
            "Epoch 73/100\n",
            "\u001b[1m12/12\u001b[0m \u001b[32m━━━━━━━━━━━━━━━━━━━━\u001b[0m\u001b[37m\u001b[0m \u001b[1m0s\u001b[0m 7ms/step - loss: 0.0201 - mae: 0.0995 - val_loss: 0.0209 - val_mae: 0.1207\n",
            "Epoch 74/100\n",
            "\u001b[1m12/12\u001b[0m \u001b[32m━━━━━━━━━━━━━━━━━━━━\u001b[0m\u001b[37m\u001b[0m \u001b[1m0s\u001b[0m 7ms/step - loss: 0.0202 - mae: 0.1067 - val_loss: 0.0211 - val_mae: 0.1183\n",
            "Epoch 75/100\n",
            "\u001b[1m12/12\u001b[0m \u001b[32m━━━━━━━━━━━━━━━━━━━━\u001b[0m\u001b[37m\u001b[0m \u001b[1m0s\u001b[0m 7ms/step - loss: 0.0187 - mae: 0.0976 - val_loss: 0.0222 - val_mae: 0.1202\n",
            "Epoch 76/100\n",
            "\u001b[1m12/12\u001b[0m \u001b[32m━━━━━━━━━━━━━━━━━━━━\u001b[0m\u001b[37m\u001b[0m \u001b[1m0s\u001b[0m 9ms/step - loss: 0.0189 - mae: 0.1006 - val_loss: 0.0215 - val_mae: 0.1219\n",
            "Epoch 77/100\n",
            "\u001b[1m12/12\u001b[0m \u001b[32m━━━━━━━━━━━━━━━━━━━━\u001b[0m\u001b[37m\u001b[0m \u001b[1m0s\u001b[0m 8ms/step - loss: 0.0195 - mae: 0.1004 - val_loss: 0.0213 - val_mae: 0.1228\n",
            "Epoch 78/100\n",
            "\u001b[1m12/12\u001b[0m \u001b[32m━━━━━━━━━━━━━━━━━━━━\u001b[0m\u001b[37m\u001b[0m \u001b[1m0s\u001b[0m 7ms/step - loss: 0.0237 - mae: 0.1168 - val_loss: 0.0216 - val_mae: 0.1218\n",
            "Epoch 79/100\n",
            "\u001b[1m12/12\u001b[0m \u001b[32m━━━━━━━━━━━━━━━━━━━━\u001b[0m\u001b[37m\u001b[0m \u001b[1m0s\u001b[0m 7ms/step - loss: 0.0223 - mae: 0.1160 - val_loss: 0.0226 - val_mae: 0.1183\n",
            "Epoch 80/100\n",
            "\u001b[1m12/12\u001b[0m \u001b[32m━━━━━━━━━━━━━━━━━━━━\u001b[0m\u001b[37m\u001b[0m \u001b[1m0s\u001b[0m 7ms/step - loss: 0.0210 - mae: 0.1094 - val_loss: 0.0212 - val_mae: 0.1202\n",
            "Epoch 81/100\n",
            "\u001b[1m12/12\u001b[0m \u001b[32m━━━━━━━━━━━━━━━━━━━━\u001b[0m\u001b[37m\u001b[0m \u001b[1m0s\u001b[0m 7ms/step - loss: 0.0172 - mae: 0.0951 - val_loss: 0.0219 - val_mae: 0.1197\n",
            "Epoch 82/100\n",
            "\u001b[1m12/12\u001b[0m \u001b[32m━━━━━━━━━━━━━━━━━━━━\u001b[0m\u001b[37m\u001b[0m \u001b[1m0s\u001b[0m 7ms/step - loss: 0.0181 - mae: 0.0952 - val_loss: 0.0211 - val_mae: 0.1192\n",
            "Epoch 83/100\n",
            "\u001b[1m12/12\u001b[0m \u001b[32m━━━━━━━━━━━━━━━━━━━━\u001b[0m\u001b[37m\u001b[0m \u001b[1m0s\u001b[0m 7ms/step - loss: 0.0193 - mae: 0.1022 - val_loss: 0.0226 - val_mae: 0.1174\n"
          ]
        },
        {
          "output_type": "display_data",
          "data": {
            "text/plain": [
              "\u001b[1mModel: \"sequential\"\u001b[0m\n"
            ],
            "text/html": [
              "<pre style=\"white-space:pre;overflow-x:auto;line-height:normal;font-family:Menlo,'DejaVu Sans Mono',consolas,'Courier New',monospace\"><span style=\"font-weight: bold\">Model: \"sequential\"</span>\n",
              "</pre>\n"
            ]
          },
          "metadata": {}
        },
        {
          "output_type": "display_data",
          "data": {
            "text/plain": [
              "┏━━━━━━━━━━━━━━━━━━━━━━━━━━━━━━━━━┳━━━━━━━━━━━━━━━━━━━━━━━━┳━━━━━━━━━━━━━━━┓\n",
              "┃\u001b[1m \u001b[0m\u001b[1mLayer (type)                   \u001b[0m\u001b[1m \u001b[0m┃\u001b[1m \u001b[0m\u001b[1mOutput Shape          \u001b[0m\u001b[1m \u001b[0m┃\u001b[1m \u001b[0m\u001b[1m      Param #\u001b[0m\u001b[1m \u001b[0m┃\n",
              "┡━━━━━━━━━━━━━━━━━━━━━━━━━━━━━━━━━╇━━━━━━━━━━━━━━━━━━━━━━━━╇━━━━━━━━━━━━━━━┩\n",
              "│ dense (\u001b[38;5;33mDense\u001b[0m)                   │ (\u001b[38;5;45mNone\u001b[0m, \u001b[38;5;34m64\u001b[0m)             │         \u001b[38;5;34m1,280\u001b[0m │\n",
              "├─────────────────────────────────┼────────────────────────┼───────────────┤\n",
              "│ dense_1 (\u001b[38;5;33mDense\u001b[0m)                 │ (\u001b[38;5;45mNone\u001b[0m, \u001b[38;5;34m32\u001b[0m)             │         \u001b[38;5;34m2,080\u001b[0m │\n",
              "├─────────────────────────────────┼────────────────────────┼───────────────┤\n",
              "│ dense_2 (\u001b[38;5;33mDense\u001b[0m)                 │ (\u001b[38;5;45mNone\u001b[0m, \u001b[38;5;34m1\u001b[0m)              │            \u001b[38;5;34m33\u001b[0m │\n",
              "└─────────────────────────────────┴────────────────────────┴───────────────┘\n"
            ],
            "text/html": [
              "<pre style=\"white-space:pre;overflow-x:auto;line-height:normal;font-family:Menlo,'DejaVu Sans Mono',consolas,'Courier New',monospace\">┏━━━━━━━━━━━━━━━━━━━━━━━━━━━━━━━━━┳━━━━━━━━━━━━━━━━━━━━━━━━┳━━━━━━━━━━━━━━━┓\n",
              "┃<span style=\"font-weight: bold\"> Layer (type)                    </span>┃<span style=\"font-weight: bold\"> Output Shape           </span>┃<span style=\"font-weight: bold\">       Param # </span>┃\n",
              "┡━━━━━━━━━━━━━━━━━━━━━━━━━━━━━━━━━╇━━━━━━━━━━━━━━━━━━━━━━━━╇━━━━━━━━━━━━━━━┩\n",
              "│ dense (<span style=\"color: #0087ff; text-decoration-color: #0087ff\">Dense</span>)                   │ (<span style=\"color: #00d7ff; text-decoration-color: #00d7ff\">None</span>, <span style=\"color: #00af00; text-decoration-color: #00af00\">64</span>)             │         <span style=\"color: #00af00; text-decoration-color: #00af00\">1,280</span> │\n",
              "├─────────────────────────────────┼────────────────────────┼───────────────┤\n",
              "│ dense_1 (<span style=\"color: #0087ff; text-decoration-color: #0087ff\">Dense</span>)                 │ (<span style=\"color: #00d7ff; text-decoration-color: #00d7ff\">None</span>, <span style=\"color: #00af00; text-decoration-color: #00af00\">32</span>)             │         <span style=\"color: #00af00; text-decoration-color: #00af00\">2,080</span> │\n",
              "├─────────────────────────────────┼────────────────────────┼───────────────┤\n",
              "│ dense_2 (<span style=\"color: #0087ff; text-decoration-color: #0087ff\">Dense</span>)                 │ (<span style=\"color: #00d7ff; text-decoration-color: #00d7ff\">None</span>, <span style=\"color: #00af00; text-decoration-color: #00af00\">1</span>)              │            <span style=\"color: #00af00; text-decoration-color: #00af00\">33</span> │\n",
              "└─────────────────────────────────┴────────────────────────┴───────────────┘\n",
              "</pre>\n"
            ]
          },
          "metadata": {}
        },
        {
          "output_type": "display_data",
          "data": {
            "text/plain": [
              "\u001b[1m Total params: \u001b[0m\u001b[38;5;34m10,181\u001b[0m (39.77 KB)\n"
            ],
            "text/html": [
              "<pre style=\"white-space:pre;overflow-x:auto;line-height:normal;font-family:Menlo,'DejaVu Sans Mono',consolas,'Courier New',monospace\"><span style=\"font-weight: bold\"> Total params: </span><span style=\"color: #00af00; text-decoration-color: #00af00\">10,181</span> (39.77 KB)\n",
              "</pre>\n"
            ]
          },
          "metadata": {}
        },
        {
          "output_type": "display_data",
          "data": {
            "text/plain": [
              "\u001b[1m Trainable params: \u001b[0m\u001b[38;5;34m3,393\u001b[0m (13.25 KB)\n"
            ],
            "text/html": [
              "<pre style=\"white-space:pre;overflow-x:auto;line-height:normal;font-family:Menlo,'DejaVu Sans Mono',consolas,'Courier New',monospace\"><span style=\"font-weight: bold\"> Trainable params: </span><span style=\"color: #00af00; text-decoration-color: #00af00\">3,393</span> (13.25 KB)\n",
              "</pre>\n"
            ]
          },
          "metadata": {}
        },
        {
          "output_type": "display_data",
          "data": {
            "text/plain": [
              "\u001b[1m Non-trainable params: \u001b[0m\u001b[38;5;34m0\u001b[0m (0.00 B)\n"
            ],
            "text/html": [
              "<pre style=\"white-space:pre;overflow-x:auto;line-height:normal;font-family:Menlo,'DejaVu Sans Mono',consolas,'Courier New',monospace\"><span style=\"font-weight: bold\"> Non-trainable params: </span><span style=\"color: #00af00; text-decoration-color: #00af00\">0</span> (0.00 B)\n",
              "</pre>\n"
            ]
          },
          "metadata": {}
        },
        {
          "output_type": "display_data",
          "data": {
            "text/plain": [
              "\u001b[1m Optimizer params: \u001b[0m\u001b[38;5;34m6,788\u001b[0m (26.52 KB)\n"
            ],
            "text/html": [
              "<pre style=\"white-space:pre;overflow-x:auto;line-height:normal;font-family:Menlo,'DejaVu Sans Mono',consolas,'Courier New',monospace\"><span style=\"font-weight: bold\"> Optimizer params: </span><span style=\"color: #00af00; text-decoration-color: #00af00\">6,788</span> (26.52 KB)\n",
              "</pre>\n"
            ]
          },
          "metadata": {}
        }
      ]
    },
    {
      "cell_type": "code",
      "source": [
        "# ----------- 7. EVALUATE -----------\n",
        "test_loss, test_mae = model.evaluate(X_test_scaled, y_test, verbose=1)\n",
        "print(f\"Test MAE: {test_mae:.4f}\")\n",
        "\n",
        "from sklearn.metrics import mean_absolute_error, mean_squared_error, r2_score\n",
        "y_pred = model.predict(X_test_scaled).flatten()\n",
        "mae = mean_absolute_error(y_test, y_pred)\n",
        "rmse = np.sqrt(mean_squared_error(y_test, y_pred))\n",
        "r2 = r2_score(y_test, y_pred)\n",
        "print(f\"Test MAE: {mae:.4f}\")\n",
        "print(f\"Test RMSE: {rmse:.4f}\")\n",
        "print(f\"R2 Score: {r2:.4f}\")\n"
      ],
      "metadata": {
        "colab": {
          "base_uri": "https://localhost:8080/"
        },
        "id": "k3rM6ZJfQBCu",
        "outputId": "b5a335da-9dc6-4bb6-d10c-8fe51b30f3c7"
      },
      "execution_count": null,
      "outputs": [
        {
          "output_type": "stream",
          "name": "stdout",
          "text": [
            "\u001b[1m2/2\u001b[0m \u001b[32m━━━━━━━━━━━━━━━━━━━━\u001b[0m\u001b[37m\u001b[0m \u001b[1m0s\u001b[0m 25ms/step - loss: 0.0279 - mae: 0.1296 \n",
            "Test MAE: 0.1247\n",
            "\u001b[1m2/2\u001b[0m \u001b[32m━━━━━━━━━━━━━━━━━━━━\u001b[0m\u001b[37m\u001b[0m \u001b[1m0s\u001b[0m 70ms/step\n",
            "Test MAE: 0.1247\n",
            "Test RMSE: 0.1612\n",
            "R2 Score: 0.9688\n"
          ]
        }
      ]
    },
    {
      "cell_type": "code",
      "source": [
        "import matplotlib.pyplot as plt\n",
        "\n",
        "# Set how many epochs to show\n",
        "epochs_to_show = 10\n",
        "\n",
        "# Prepare data for first 10 epochs\n",
        "epochs = range(1, epochs_to_show + 1)\n",
        "plt.figure(figsize=(12, 6))\n",
        "plt.plot(epochs, history.history['loss'][:epochs_to_show], 'b-', label='Training loss')\n",
        "plt.plot(epochs, history.history['val_loss'][:epochs_to_show], 'r--', label='Validation loss')\n",
        "\n",
        "# If you have 'mae' and 'val_mae' in your history\n",
        "if 'mae' in history.history and 'val_mae' in history.history:\n",
        "    plt.plot(epochs, history.history['mae'][:epochs_to_show], 'g-', label='Training MAE')\n",
        "    plt.plot(epochs, history.history['val_mae'][:epochs_to_show], color='orange', linestyle='--', label='Validation MAE')\n",
        "\n",
        "plt.title('Training and Validation Loss & MAE (First 10 Epochs)')\n",
        "plt.xlabel('Epochs')\n",
        "plt.ylabel('Value')\n",
        "plt.legend()\n",
        "plt.grid(True)\n",
        "plt.show()"
      ],
      "metadata": {
        "colab": {
          "base_uri": "https://localhost:8080/",
          "height": 564
        },
        "id": "82SL9BS3QC4W",
        "outputId": "df5b6892-cc13-4bab-84ab-49189e89d217"
      },
      "execution_count": null,
      "outputs": [
        {
          "output_type": "display_data",
          "data": {
            "text/plain": [
              "<Figure size 1200x600 with 1 Axes>"
            ],
            "image/png": "[encoded data removed]"
          },
          "metadata": {}
        }
      ]
    },
    {
      "cell_type": "markdown",
      "source": [
        "Hyperparameter Tunning"
      ],
      "metadata": {
        "id": "wYlmvJpTaXkw"
      }
    },
    {
      "cell_type": "code",
      "source": [
        "!pip install keras-tuner\n",
        "\n",
        "import keras_tuner as kt\n",
        "from tensorflow.keras.models import Sequential\n",
        "from tensorflow.keras.layers import Dense\n",
        "from tensorflow.keras.optimizers import Adam, RMSprop\n",
        "from tensorflow.keras.callbacks import EarlyStopping\n",
        "\n",
        "def build_model(hp):\n",
        "    model = Sequential()\n",
        "    # Tune the number of units in the first Dense layer\n",
        "    model.add(Dense(\n",
        "        units=hp.Int('units1', min_value=32, max_value=256, step=32),\n",
        "        activation=hp.Choice('activation1', ['relu', 'tanh']),\n",
        "        input_shape=(X_train_scaled.shape[1],)\n",
        "    ))\n",
        "    # Tune the number of layers and units in the second Dense layer\n",
        "    for i in range(hp.Int('num_layers', 1, 3)):\n",
        "        model.add(Dense(\n",
        "            units=hp.Int(f'units_{i+2}', min_value=16, max_value=128, step=16),\n",
        "            activation=hp.Choice(f'activation_{i+2}', ['relu', 'tanh'])\n",
        "        ))\n",
        "    # Output layer\n",
        "    model.add(Dense(1))\n",
        "    model.compile(\n",
        "        optimizer=hp.Choice('optimizer', ['adam', 'rmsprop']),\n",
        "        loss='mse',\n",
        "        metrics=['mae']\n",
        "    )\n",
        "    return model\n",
        "\n",
        "tuner = kt.RandomSearch(\n",
        "    build_model,\n",
        "    objective='val_mae',\n",
        "    max_trials=15,  # Increase for more thorough search\n",
        "    executions_per_trial=1,\n",
        "    directory='kt_student_model',\n",
        "    project_name='student_performance'\n",
        ")\n",
        "\n",
        "early_stop = EarlyStopping(monitor='val_loss', patience=10, restore_best_weights=True)\n",
        "\n",
        "tuner.search(\n",
        "    X_train_scaled, y_train,\n",
        "    epochs=100,\n",
        "    validation_split=0.2,\n",
        "    callbacks=[early_stop],\n",
        "    verbose=2\n",
        ")\n",
        "\n",
        "# Get the best model and hyperparameters\n",
        "best_hps = tuner.get_best_hyperparameters(num_trials=1)[0]\n",
        "print(\"Best hyperparameters:\", best_hps.values)\n",
        "best_model = tuner.get_best_models(num_models=1)[0]"
      ],
      "metadata": {
        "colab": {
          "base_uri": "https://localhost:8080/"
        },
        "id": "flwXZ3W0VFZw",
        "outputId": "75967e8f-cdf0-4b4f-e647-ae9670d4ff85"
      },
      "execution_count": null,
      "outputs": [
        {
          "output_type": "stream",
          "name": "stdout",
          "text": [
            "Trial 15 Complete [00h 00m 11s]\n",
            "val_mae: 0.12379352003335953\n",
            "\n",
            "Best val_mae So Far: 0.12112292647361755\n",
            "Total elapsed time: 00h 03m 02s\n",
            "Best hyperparameters: {'units1': 224, 'activation1': 'relu', 'num_layers': 1, 'units_2': 32, 'activation_2': 'tanh', 'optimizer': 'rmsprop', 'units_3': 32, 'activation_3': 'tanh', 'units_4': 128, 'activation_4': 'tanh'}\n"
          ]
        },
        {
          "output_type": "stream",
          "name": "stderr",
          "text": [
            "/usr/local/lib/python3.12/dist-packages/keras/src/saving/saving_lib.py:802: UserWarning: Skipping variable loading for optimizer 'rmsprop', because it has 2 variables whereas the saved optimizer has 8 variables. \n",
            "  saveable.load_own_variables(weights_store.get(inner_path))\n"
          ]
        }
      ]
    },
    {
      "cell_type": "markdown",
      "source": [
        "After HP tunning"
      ],
      "metadata": {
        "id": "e936tHWVkGuT"
      }
    },
    {
      "cell_type": "code",
      "source": [
        "from tensorflow.keras.models import Sequential\n",
        "from tensorflow.keras.layers import Dense\n",
        "from tensorflow.keras.callbacks import EarlyStopping"
      ],
      "metadata": {
        "id": "NBIDlXu5kUkF"
      },
      "execution_count": null,
      "outputs": []
    },
    {
      "cell_type": "code",
      "source": [
        "# 1. Build Model with Best Hyperparameters\n",
        "model = Sequential()\n",
        "model.add(Dense(192, activation='relu', input_shape=(X_train_scaled.shape[1],)))\n",
        "model.add(Dense(64, activation='relu'))\n",
        "model.add(Dense(112, activation='relu'))\n",
        "model.add(Dense(64, activation='tanh'))\n",
        "model.add(Dense(1))\n",
        "\n",
        "model.compile(optimizer='adam', loss='mse', metrics=['mae'])\n",
        "\n",
        "# Show model summary\n",
        "model.summary()"
      ],
      "metadata": {
        "colab": {
          "base_uri": "https://localhost:8080/",
          "height": 289
        },
        "id": "WViyCUb_kwX4",
        "outputId": "4406e983-03b6-45bd-f8c9-db38e1a4edcb"
      },
      "execution_count": null,
      "outputs": [
        {
          "output_type": "display_data",
          "data": {
            "text/plain": [
              "\u001b[1mModel: \"sequential_1\"\u001b[0m\n"
            ],
            "text/html": [
              "<pre style=\"white-space:pre;overflow-x:auto;line-height:normal;font-family:Menlo,'DejaVu Sans Mono',consolas,'Courier New',monospace\"><span style=\"font-weight: bold\">Model: \"sequential_1\"</span>\n",
              "</pre>\n"
            ]
          },
          "metadata": {}
        },
        {
          "output_type": "display_data",
          "data": {
            "text/plain": [
              "┏━━━━━━━━━━━━━━━━━━━━━━━━━━━━━━━━━┳━━━━━━━━━━━━━━━━━━━━━━━━┳━━━━━━━━━━━━━━━┓\n",
              "┃\u001b[1m \u001b[0m\u001b[1mLayer (type)                   \u001b[0m\u001b[1m \u001b[0m┃\u001b[1m \u001b[0m\u001b[1mOutput Shape          \u001b[0m\u001b[1m \u001b[0m┃\u001b[1m \u001b[0m\u001b[1m      Param #\u001b[0m\u001b[1m \u001b[0m┃\n",
              "┡━━━━━━━━━━━━━━━━━━━━━━━━━━━━━━━━━╇━━━━━━━━━━━━━━━━━━━━━━━━╇━━━━━━━━━━━━━━━┩\n",
              "│ dense_3 (\u001b[38;5;33mDense\u001b[0m)                 │ (\u001b[38;5;45mNone\u001b[0m, \u001b[38;5;34m192\u001b[0m)            │         \u001b[38;5;34m3,840\u001b[0m │\n",
              "├─────────────────────────────────┼────────────────────────┼───────────────┤\n",
              "│ dense_4 (\u001b[38;5;33mDense\u001b[0m)                 │ (\u001b[38;5;45mNone\u001b[0m, \u001b[38;5;34m64\u001b[0m)             │        \u001b[38;5;34m12,352\u001b[0m │\n",
              "├─────────────────────────────────┼────────────────────────┼───────────────┤\n",
              "│ dense_5 (\u001b[38;5;33mDense\u001b[0m)                 │ (\u001b[38;5;45mNone\u001b[0m, \u001b[38;5;34m112\u001b[0m)            │         \u001b[38;5;34m7,280\u001b[0m │\n",
              "├─────────────────────────────────┼────────────────────────┼───────────────┤\n",
              "│ dense_6 (\u001b[38;5;33mDense\u001b[0m)                 │ (\u001b[38;5;45mNone\u001b[0m, \u001b[38;5;34m64\u001b[0m)             │         \u001b[38;5;34m7,232\u001b[0m │\n",
              "├─────────────────────────────────┼────────────────────────┼───────────────┤\n",
              "│ dense_7 (\u001b[38;5;33mDense\u001b[0m)                 │ (\u001b[38;5;45mNone\u001b[0m, \u001b[38;5;34m1\u001b[0m)              │            \u001b[38;5;34m65\u001b[0m │\n",
              "└─────────────────────────────────┴────────────────────────┴───────────────┘\n"
            ],
            "text/html": [
              "<pre style=\"white-space:pre;overflow-x:auto;line-height:normal;font-family:Menlo,'DejaVu Sans Mono',consolas,'Courier New',monospace\">┏━━━━━━━━━━━━━━━━━━━━━━━━━━━━━━━━━┳━━━━━━━━━━━━━━━━━━━━━━━━┳━━━━━━━━━━━━━━━┓\n",
              "┃<span style=\"font-weight: bold\"> Layer (type)                    </span>┃<span style=\"font-weight: bold\"> Output Shape           </span>┃<span style=\"font-weight: bold\">       Param # </span>┃\n",
              "┡━━━━━━━━━━━━━━━━━━━━━━━━━━━━━━━━━╇━━━━━━━━━━━━━━━━━━━━━━━━╇━━━━━━━━━━━━━━━┩\n",
              "│ dense_3 (<span style=\"color: #0087ff; text-decoration-color: #0087ff\">Dense</span>)                 │ (<span style=\"color: #00d7ff; text-decoration-color: #00d7ff\">None</span>, <span style=\"color: #00af00; text-decoration-color: #00af00\">192</span>)            │         <span style=\"color: #00af00; text-decoration-color: #00af00\">3,840</span> │\n",
              "├─────────────────────────────────┼────────────────────────┼───────────────┤\n",
              "│ dense_4 (<span style=\"color: #0087ff; text-decoration-color: #0087ff\">Dense</span>)                 │ (<span style=\"color: #00d7ff; text-decoration-color: #00d7ff\">None</span>, <span style=\"color: #00af00; text-decoration-color: #00af00\">64</span>)             │        <span style=\"color: #00af00; text-decoration-color: #00af00\">12,352</span> │\n",
              "├─────────────────────────────────┼────────────────────────┼───────────────┤\n",
              "│ dense_5 (<span style=\"color: #0087ff; text-decoration-color: #0087ff\">Dense</span>)                 │ (<span style=\"color: #00d7ff; text-decoration-color: #00d7ff\">None</span>, <span style=\"color: #00af00; text-decoration-color: #00af00\">112</span>)            │         <span style=\"color: #00af00; text-decoration-color: #00af00\">7,280</span> │\n",
              "├─────────────────────────────────┼────────────────────────┼───────────────┤\n",
              "│ dense_6 (<span style=\"color: #0087ff; text-decoration-color: #0087ff\">Dense</span>)                 │ (<span style=\"color: #00d7ff; text-decoration-color: #00d7ff\">None</span>, <span style=\"color: #00af00; text-decoration-color: #00af00\">64</span>)             │         <span style=\"color: #00af00; text-decoration-color: #00af00\">7,232</span> │\n",
              "├─────────────────────────────────┼────────────────────────┼───────────────┤\n",
              "│ dense_7 (<span style=\"color: #0087ff; text-decoration-color: #0087ff\">Dense</span>)                 │ (<span style=\"color: #00d7ff; text-decoration-color: #00d7ff\">None</span>, <span style=\"color: #00af00; text-decoration-color: #00af00\">1</span>)              │            <span style=\"color: #00af00; text-decoration-color: #00af00\">65</span> │\n",
              "└─────────────────────────────────┴────────────────────────┴───────────────┘\n",
              "</pre>\n"
            ]
          },
          "metadata": {}
        },
        {
          "output_type": "display_data",
          "data": {
            "text/plain": [
              "\u001b[1m Total params: \u001b[0m\u001b[38;5;34m30,769\u001b[0m (120.19 KB)\n"
            ],
            "text/html": [
              "<pre style=\"white-space:pre;overflow-x:auto;line-height:normal;font-family:Menlo,'DejaVu Sans Mono',consolas,'Courier New',monospace\"><span style=\"font-weight: bold\"> Total params: </span><span style=\"color: #00af00; text-decoration-color: #00af00\">30,769</span> (120.19 KB)\n",
              "</pre>\n"
            ]
          },
          "metadata": {}
        },
        {
          "output_type": "display_data",
          "data": {
            "text/plain": [
              "\u001b[1m Trainable params: \u001b[0m\u001b[38;5;34m30,769\u001b[0m (120.19 KB)\n"
            ],
            "text/html": [
              "<pre style=\"white-space:pre;overflow-x:auto;line-height:normal;font-family:Menlo,'DejaVu Sans Mono',consolas,'Courier New',monospace\"><span style=\"font-weight: bold\"> Trainable params: </span><span style=\"color: #00af00; text-decoration-color: #00af00\">30,769</span> (120.19 KB)\n",
              "</pre>\n"
            ]
          },
          "metadata": {}
        },
        {
          "output_type": "display_data",
          "data": {
            "text/plain": [
              "\u001b[1m Non-trainable params: \u001b[0m\u001b[38;5;34m0\u001b[0m (0.00 B)\n"
            ],
            "text/html": [
              "<pre style=\"white-space:pre;overflow-x:auto;line-height:normal;font-family:Menlo,'DejaVu Sans Mono',consolas,'Courier New',monospace\"><span style=\"font-weight: bold\"> Non-trainable params: </span><span style=\"color: #00af00; text-decoration-color: #00af00\">0</span> (0.00 B)\n",
              "</pre>\n"
            ]
          },
          "metadata": {}
        }
      ]
    },
    {
      "cell_type": "code",
      "source": [
        "# 2. Train Model\n",
        "early_stop = EarlyStopping(monitor='val_loss', patience=10, restore_best_weights=True)\n",
        "\n",
        "history = model.fit(\n",
        "    X_train_scaled, y_train,\n",
        "    epochs=100,\n",
        "    batch_size=16,  # You can change if a different batch size was best\n",
        "    validation_split=0.2,\n",
        "    callbacks=[early_stop],\n",
        "    verbose=1\n",
        ")"
      ],
      "metadata": {
        "colab": {
          "base_uri": "https://localhost:8080/"
        },
        "id": "kNlKUtpGkxNi",
        "outputId": "1f128580-740d-4c34-b818-32ab292a09e4"
      },
      "execution_count": null,
      "outputs": [
        {
          "output_type": "stream",
          "name": "stdout",
          "text": [
            "Epoch 1/100\n",
            "\u001b[1m12/12\u001b[0m \u001b[32m━━━━━━━━━━━━━━━━━━━━\u001b[0m\u001b[37m\u001b[0m \u001b[1m2s\u001b[0m 25ms/step - loss: 6.5632 - mae: 2.3842 - val_loss: 0.3116 - val_mae: 0.4566\n",
            "Epoch 2/100\n",
            "\u001b[1m12/12\u001b[0m \u001b[32m━━━━━━━━━━━━━━━━━━━━\u001b[0m\u001b[37m\u001b[0m \u001b[1m0s\u001b[0m 8ms/step - loss: 0.4682 - mae: 0.5709 - val_loss: 0.0902 - val_mae: 0.2588\n",
            "Epoch 3/100\n",
            "\u001b[1m12/12\u001b[0m \u001b[32m━━━━━━━━━━━━━━━━━━━━\u001b[0m\u001b[37m\u001b[0m \u001b[1m0s\u001b[0m 8ms/step - loss: 0.1097 - mae: 0.2667 - val_loss: 0.0878 - val_mae: 0.2469\n",
            "Epoch 4/100\n",
            "\u001b[1m12/12\u001b[0m \u001b[32m━━━━━━━━━━━━━━━━━━━━\u001b[0m\u001b[37m\u001b[0m \u001b[1m0s\u001b[0m 22ms/step - loss: 0.0574 - mae: 0.1991 - val_loss: 0.0752 - val_mae: 0.2207\n",
            "Epoch 5/100\n",
            "\u001b[1m12/12\u001b[0m \u001b[32m━━━━━━━━━━━━━━━━━━━━\u001b[0m\u001b[37m\u001b[0m \u001b[1m0s\u001b[0m 18ms/step - loss: 0.0600 - mae: 0.2011 - val_loss: 0.0458 - val_mae: 0.1784\n",
            "Epoch 6/100\n",
            "\u001b[1m12/12\u001b[0m \u001b[32m━━━━━━━━━━━━━━━━━━━━\u001b[0m\u001b[37m\u001b[0m \u001b[1m0s\u001b[0m 22ms/step - loss: 0.0386 - mae: 0.1482 - val_loss: 0.0368 - val_mae: 0.1542\n",
            "Epoch 7/100\n",
            "\u001b[1m12/12\u001b[0m \u001b[32m━━━━━━━━━━━━━━━━━━━━\u001b[0m\u001b[37m\u001b[0m \u001b[1m0s\u001b[0m 15ms/step - loss: 0.0386 - mae: 0.1452 - val_loss: 0.0331 - val_mae: 0.1462\n",
            "Epoch 8/100\n",
            "\u001b[1m12/12\u001b[0m \u001b[32m━━━━━━━━━━━━━━━━━━━━\u001b[0m\u001b[37m\u001b[0m \u001b[1m0s\u001b[0m 21ms/step - loss: 0.0343 - mae: 0.1369 - val_loss: 0.0322 - val_mae: 0.1436\n",
            "Epoch 9/100\n",
            "\u001b[1m12/12\u001b[0m \u001b[32m━━━━━━━━━━━━━━━━━━━━\u001b[0m\u001b[37m\u001b[0m \u001b[1m0s\u001b[0m 26ms/step - loss: 0.0320 - mae: 0.1328 - val_loss: 0.0317 - val_mae: 0.1430\n",
            "Epoch 10/100\n",
            "\u001b[1m12/12\u001b[0m \u001b[32m━━━━━━━━━━━━━━━━━━━━\u001b[0m\u001b[37m\u001b[0m \u001b[1m1s\u001b[0m 22ms/step - loss: 0.0334 - mae: 0.1399 - val_loss: 0.0320 - val_mae: 0.1420\n",
            "Epoch 11/100\n",
            "\u001b[1m12/12\u001b[0m \u001b[32m━━━━━━━━━━━━━━━━━━━━\u001b[0m\u001b[37m\u001b[0m \u001b[1m0s\u001b[0m 15ms/step - loss: 0.0292 - mae: 0.1239 - val_loss: 0.0283 - val_mae: 0.1348\n",
            "Epoch 12/100\n",
            "\u001b[1m12/12\u001b[0m \u001b[32m━━━━━━━━━━━━━━━━━━━━\u001b[0m\u001b[37m\u001b[0m \u001b[1m0s\u001b[0m 15ms/step - loss: 0.0288 - mae: 0.1291 - val_loss: 0.0318 - val_mae: 0.1365\n",
            "Epoch 13/100\n",
            "\u001b[1m12/12\u001b[0m \u001b[32m━━━━━━━━━━━━━━━━━━━━\u001b[0m\u001b[37m\u001b[0m \u001b[1m0s\u001b[0m 22ms/step - loss: 0.0276 - mae: 0.1189 - val_loss: 0.0284 - val_mae: 0.1374\n",
            "Epoch 14/100\n",
            "\u001b[1m12/12\u001b[0m \u001b[32m━━━━━━━━━━━━━━━━━━━━\u001b[0m\u001b[37m\u001b[0m \u001b[1m0s\u001b[0m 15ms/step - loss: 0.0306 - mae: 0.1395 - val_loss: 0.0372 - val_mae: 0.1537\n",
            "Epoch 15/100\n",
            "\u001b[1m12/12\u001b[0m \u001b[32m━━━━━━━━━━━━━━━━━━━━\u001b[0m\u001b[37m\u001b[0m \u001b[1m0s\u001b[0m 37ms/step - loss: 0.0318 - mae: 0.1343 - val_loss: 0.0272 - val_mae: 0.1353\n",
            "Epoch 16/100\n",
            "\u001b[1m12/12\u001b[0m \u001b[32m━━━━━━━━━━━━━━━━━━━━\u001b[0m\u001b[37m\u001b[0m \u001b[1m1s\u001b[0m 27ms/step - loss: 0.0265 - mae: 0.1195 - val_loss: 0.0280 - val_mae: 0.1399\n",
            "Epoch 17/100\n",
            "\u001b[1m12/12\u001b[0m \u001b[32m━━━━━━━━━━━━━━━━━━━━\u001b[0m\u001b[37m\u001b[0m \u001b[1m1s\u001b[0m 27ms/step - loss: 0.0263 - mae: 0.1215 - val_loss: 0.0261 - val_mae: 0.1345\n",
            "Epoch 18/100\n",
            "\u001b[1m12/12\u001b[0m \u001b[32m━━━━━━━━━━━━━━━━━━━━\u001b[0m\u001b[37m\u001b[0m \u001b[1m1s\u001b[0m 42ms/step - loss: 0.0255 - mae: 0.1201 - val_loss: 0.0284 - val_mae: 0.1378\n",
            "Epoch 19/100\n",
            "\u001b[1m12/12\u001b[0m \u001b[32m━━━━━━━━━━━━━━━━━━━━\u001b[0m\u001b[37m\u001b[0m \u001b[1m0s\u001b[0m 31ms/step - loss: 0.0239 - mae: 0.1103 - val_loss: 0.0255 - val_mae: 0.1279\n",
            "Epoch 20/100\n",
            "\u001b[1m12/12\u001b[0m \u001b[32m━━━━━━━━━━━━━━━━━━━━\u001b[0m\u001b[37m\u001b[0m \u001b[1m1s\u001b[0m 36ms/step - loss: 0.0210 - mae: 0.1043 - val_loss: 0.0277 - val_mae: 0.1343\n",
            "Epoch 21/100\n",
            "\u001b[1m12/12\u001b[0m \u001b[32m━━━━━━━━━━━━━━━━━━━━\u001b[0m\u001b[37m\u001b[0m \u001b[1m1s\u001b[0m 64ms/step - loss: 0.0247 - mae: 0.1141 - val_loss: 0.0259 - val_mae: 0.1338\n",
            "Epoch 22/100\n",
            "\u001b[1m12/12\u001b[0m \u001b[32m━━━━━━━━━━━━━━━━━━━━\u001b[0m\u001b[37m\u001b[0m \u001b[1m1s\u001b[0m 56ms/step - loss: 0.0273 - mae: 0.1220 - val_loss: 0.0252 - val_mae: 0.1277\n",
            "Epoch 23/100\n",
            "\u001b[1m12/12\u001b[0m \u001b[32m━━━━━━━━━━━━━━━━━━━━\u001b[0m\u001b[37m\u001b[0m \u001b[1m1s\u001b[0m 43ms/step - loss: 0.0232 - mae: 0.1108 - val_loss: 0.0265 - val_mae: 0.1305\n",
            "Epoch 24/100\n",
            "\u001b[1m12/12\u001b[0m \u001b[32m━━━━━━━━━━━━━━━━━━━━\u001b[0m\u001b[37m\u001b[0m \u001b[1m0s\u001b[0m 18ms/step - loss: 0.0219 - mae: 0.1045 - val_loss: 0.0273 - val_mae: 0.1320\n",
            "Epoch 25/100\n",
            "\u001b[1m12/12\u001b[0m \u001b[32m━━━━━━━━━━━━━━━━━━━━\u001b[0m\u001b[37m\u001b[0m \u001b[1m1s\u001b[0m 32ms/step - loss: 0.0254 - mae: 0.1142 - val_loss: 0.0245 - val_mae: 0.1235\n",
            "Epoch 26/100\n",
            "\u001b[1m12/12\u001b[0m \u001b[32m━━━━━━━━━━━━━━━━━━━━\u001b[0m\u001b[37m\u001b[0m \u001b[1m0s\u001b[0m 23ms/step - loss: 0.0246 - mae: 0.1165 - val_loss: 0.0264 - val_mae: 0.1342\n",
            "Epoch 27/100\n",
            "\u001b[1m12/12\u001b[0m \u001b[32m━━━━━━━━━━━━━━━━━━━━\u001b[0m\u001b[37m\u001b[0m \u001b[1m1s\u001b[0m 52ms/step - loss: 0.0216 - mae: 0.1114 - val_loss: 0.0273 - val_mae: 0.1294\n",
            "Epoch 28/100\n",
            "\u001b[1m12/12\u001b[0m \u001b[32m━━━━━━━━━━━━━━━━━━━━\u001b[0m\u001b[37m\u001b[0m \u001b[1m0s\u001b[0m 29ms/step - loss: 0.0257 - mae: 0.1261 - val_loss: 0.0287 - val_mae: 0.1366\n",
            "Epoch 29/100\n",
            "\u001b[1m12/12\u001b[0m \u001b[32m━━━━━━━━━━━━━━━━━━━━\u001b[0m\u001b[37m\u001b[0m \u001b[1m1s\u001b[0m 48ms/step - loss: 0.0183 - mae: 0.1019 - val_loss: 0.0250 - val_mae: 0.1322\n",
            "Epoch 30/100\n",
            "\u001b[1m12/12\u001b[0m \u001b[32m━━━━━━━━━━━━━━━━━━━━\u001b[0m\u001b[37m\u001b[0m \u001b[1m1s\u001b[0m 35ms/step - loss: 0.0187 - mae: 0.1018 - val_loss: 0.0256 - val_mae: 0.1325\n",
            "Epoch 31/100\n",
            "\u001b[1m12/12\u001b[0m \u001b[32m━━━━━━━━━━━━━━━━━━━━\u001b[0m\u001b[37m\u001b[0m \u001b[1m1s\u001b[0m 34ms/step - loss: 0.0173 - mae: 0.0959 - val_loss: 0.0258 - val_mae: 0.1353\n",
            "Epoch 32/100\n",
            "\u001b[1m12/12\u001b[0m \u001b[32m━━━━━━━━━━━━━━━━━━━━\u001b[0m\u001b[37m\u001b[0m \u001b[1m1s\u001b[0m 56ms/step - loss: 0.0172 - mae: 0.0999 - val_loss: 0.0261 - val_mae: 0.1295\n",
            "Epoch 33/100\n",
            "\u001b[1m12/12\u001b[0m \u001b[32m━━━━━━━━━━━━━━━━━━━━\u001b[0m\u001b[37m\u001b[0m \u001b[1m1s\u001b[0m 40ms/step - loss: 0.0210 - mae: 0.1058 - val_loss: 0.0252 - val_mae: 0.1317\n",
            "Epoch 34/100\n",
            "\u001b[1m12/12\u001b[0m \u001b[32m━━━━━━━━━━━━━━━━━━━━\u001b[0m\u001b[37m\u001b[0m \u001b[1m0s\u001b[0m 26ms/step - loss: 0.0184 - mae: 0.1011 - val_loss: 0.0257 - val_mae: 0.1321\n",
            "Epoch 35/100\n",
            "\u001b[1m12/12\u001b[0m \u001b[32m━━━━━━━━━━━━━━━━━━━━\u001b[0m\u001b[37m\u001b[0m \u001b[1m0s\u001b[0m 33ms/step - loss: 0.0179 - mae: 0.1011 - val_loss: 0.0243 - val_mae: 0.1241\n",
            "Epoch 36/100\n",
            "\u001b[1m12/12\u001b[0m \u001b[32m━━━━━━━━━━━━━━━━━━━━\u001b[0m\u001b[37m\u001b[0m \u001b[1m1s\u001b[0m 29ms/step - loss: 0.0170 - mae: 0.0996 - val_loss: 0.0236 - val_mae: 0.1238\n",
            "Epoch 37/100\n",
            "\u001b[1m12/12\u001b[0m \u001b[32m━━━━━━━━━━━━━━━━━━━━\u001b[0m\u001b[37m\u001b[0m \u001b[1m1s\u001b[0m 27ms/step - loss: 0.0169 - mae: 0.0933 - val_loss: 0.0235 - val_mae: 0.1278\n",
            "Epoch 38/100\n",
            "\u001b[1m12/12\u001b[0m \u001b[32m━━━━━━━━━━━━━━━━━━━━\u001b[0m\u001b[37m\u001b[0m \u001b[1m1s\u001b[0m 17ms/step - loss: 0.0183 - mae: 0.1016 - val_loss: 0.0268 - val_mae: 0.1316\n",
            "Epoch 39/100\n",
            "\u001b[1m12/12\u001b[0m \u001b[32m━━━━━━━━━━━━━━━━━━━━\u001b[0m\u001b[37m\u001b[0m \u001b[1m0s\u001b[0m 15ms/step - loss: 0.0170 - mae: 0.0951 - val_loss: 0.0238 - val_mae: 0.1211\n",
            "Epoch 40/100\n",
            "\u001b[1m12/12\u001b[0m \u001b[32m━━━━━━━━━━━━━━━━━━━━\u001b[0m\u001b[37m\u001b[0m \u001b[1m0s\u001b[0m 11ms/step - loss: 0.0155 - mae: 0.0915 - val_loss: 0.0239 - val_mae: 0.1275\n",
            "Epoch 41/100\n",
            "\u001b[1m12/12\u001b[0m \u001b[32m━━━━━━━━━━━━━━━━━━━━\u001b[0m\u001b[37m\u001b[0m \u001b[1m1s\u001b[0m 38ms/step - loss: 0.0163 - mae: 0.0973 - val_loss: 0.0248 - val_mae: 0.1220\n",
            "Epoch 42/100\n",
            "\u001b[1m12/12\u001b[0m \u001b[32m━━━━━━━━━━━━━━━━━━━━\u001b[0m\u001b[37m\u001b[0m \u001b[1m1s\u001b[0m 69ms/step - loss: 0.0132 - mae: 0.0851 - val_loss: 0.0239 - val_mae: 0.1225\n",
            "Epoch 43/100\n",
            "\u001b[1m12/12\u001b[0m \u001b[32m━━━━━━━━━━━━━━━━━━━━\u001b[0m\u001b[37m\u001b[0m \u001b[1m1s\u001b[0m 46ms/step - loss: 0.0168 - mae: 0.1004 - val_loss: 0.0252 - val_mae: 0.1290\n",
            "Epoch 44/100\n",
            "\u001b[1m12/12\u001b[0m \u001b[32m━━━━━━━━━━━━━━━━━━━━\u001b[0m\u001b[37m\u001b[0m \u001b[1m1s\u001b[0m 52ms/step - loss: 0.0144 - mae: 0.0938 - val_loss: 0.0258 - val_mae: 0.1263\n",
            "Epoch 45/100\n",
            "\u001b[1m12/12\u001b[0m \u001b[32m━━━━━━━━━━━━━━━━━━━━\u001b[0m\u001b[37m\u001b[0m \u001b[1m1s\u001b[0m 15ms/step - loss: 0.0166 - mae: 0.0950 - val_loss: 0.0245 - val_mae: 0.1183\n",
            "Epoch 46/100\n",
            "\u001b[1m12/12\u001b[0m \u001b[32m━━━━━━━━━━━━━━━━━━━━\u001b[0m\u001b[37m\u001b[0m \u001b[1m0s\u001b[0m 27ms/step - loss: 0.0163 - mae: 0.0948 - val_loss: 0.0274 - val_mae: 0.1329\n",
            "Epoch 47/100\n",
            "\u001b[1m12/12\u001b[0m \u001b[32m━━━━━━━━━━━━━━━━━━━━\u001b[0m\u001b[37m\u001b[0m \u001b[1m0s\u001b[0m 16ms/step - loss: 0.0147 - mae: 0.0940 - val_loss: 0.0285 - val_mae: 0.1319\n"
          ]
        }
      ]
    },
    {
      "cell_type": "code",
      "source": [
        "# 3. Evaluate Model\n",
        "test_loss, test_mae = model.evaluate(X_test_scaled, y_test, verbose=1)\n",
        "print(f\"Test MAE: {test_mae:.4f}\")\n",
        "\n",
        "from sklearn.metrics import mean_absolute_error, mean_squared_error, r2_score\n",
        "y_pred = model.predict(X_test_scaled).flatten()\n",
        "mae = mean_absolute_error(y_test, y_pred)\n",
        "rmse = np.sqrt(mean_squared_error(y_test, y_pred))\n",
        "r2 = r2_score(y_test, y_pred)\n",
        "print(f\"Test MAE: {mae:.4f}\")\n",
        "print(f\"Test RMSE: {rmse:.4f}\")\n",
        "print(f\"R2 Score: {r2:.4f}\")\n"
      ],
      "metadata": {
        "colab": {
          "base_uri": "https://localhost:8080/"
        },
        "id": "mgmIHI1XkxHQ",
        "outputId": "77a16b61-7a97-415a-89eb-30266e7a4e91"
      },
      "execution_count": null,
      "outputs": [
        {
          "output_type": "stream",
          "name": "stdout",
          "text": [
            "\u001b[1m2/2\u001b[0m \u001b[32m━━━━━━━━━━━━━━━━━━━━\u001b[0m\u001b[37m\u001b[0m \u001b[1m0s\u001b[0m 31ms/step - loss: 0.0222 - mae: 0.1204 \n",
            "Test MAE: 0.1207\n",
            "\u001b[1m2/2\u001b[0m \u001b[32m━━━━━━━━━━━━━━━━━━━━\u001b[0m\u001b[37m\u001b[0m \u001b[1m0s\u001b[0m 67ms/step\n",
            "Test MAE: 0.1207\n",
            "Test RMSE: 0.1500\n",
            "R2 Score: 0.9730\n"
          ]
        }
      ]
    },
    {
      "cell_type": "code",
      "source": [
        "history = model.fit(\n",
        "    X_train_scaled, y_train,\n",
        "    epochs=100,\n",
        "    batch_size=16,\n",
        "    validation_split=0.2,\n",
        "    callbacks=[early_stop],\n",
        "    verbose=1\n",
        ")"
      ],
      "metadata": {
        "colab": {
          "base_uri": "https://localhost:8080/"
        },
        "id": "17mML6I4pDXz",
        "outputId": "1d9b6997-330c-4b55-b5c6-ce98129d9b32"
      },
      "execution_count": null,
      "outputs": [
        {
          "output_type": "stream",
          "name": "stdout",
          "text": [
            "Epoch 1/100\n",
            "\u001b[1m12/12\u001b[0m \u001b[32m━━━━━━━━━━━━━━━━━━━━\u001b[0m\u001b[37m\u001b[0m \u001b[1m0s\u001b[0m 11ms/step - loss: 0.0181 - mae: 0.1017 - val_loss: 0.0248 - val_mae: 0.1313\n",
            "Epoch 2/100\n",
            "\u001b[1m12/12\u001b[0m \u001b[32m━━━━━━━━━━━━━━━━━━━━\u001b[0m\u001b[37m\u001b[0m \u001b[1m0s\u001b[0m 11ms/step - loss: 0.0178 - mae: 0.1007 - val_loss: 0.0268 - val_mae: 0.1362\n",
            "Epoch 3/100\n",
            "\u001b[1m12/12\u001b[0m \u001b[32m━━━━━━━━━━━━━━━━━━━━\u001b[0m\u001b[37m\u001b[0m \u001b[1m0s\u001b[0m 14ms/step - loss: 0.0151 - mae: 0.0959 - val_loss: 0.0262 - val_mae: 0.1286\n",
            "Epoch 4/100\n",
            "\u001b[1m12/12\u001b[0m \u001b[32m━━━━━━━━━━━━━━━━━━━━\u001b[0m\u001b[37m\u001b[0m \u001b[1m0s\u001b[0m 8ms/step - loss: 0.0177 - mae: 0.1024 - val_loss: 0.0282 - val_mae: 0.1380\n",
            "Epoch 5/100\n",
            "\u001b[1m12/12\u001b[0m \u001b[32m━━━━━━━━━━━━━━━━━━━━\u001b[0m\u001b[37m\u001b[0m \u001b[1m0s\u001b[0m 7ms/step - loss: 0.0192 - mae: 0.1101 - val_loss: 0.0273 - val_mae: 0.1311\n",
            "Epoch 6/100\n",
            "\u001b[1m12/12\u001b[0m \u001b[32m━━━━━━━━━━━━━━━━━━━━\u001b[0m\u001b[37m\u001b[0m \u001b[1m0s\u001b[0m 12ms/step - loss: 0.0137 - mae: 0.0880 - val_loss: 0.0259 - val_mae: 0.1267\n",
            "Epoch 7/100\n",
            "\u001b[1m12/12\u001b[0m \u001b[32m━━━━━━━━━━━━━━━━━━━━\u001b[0m\u001b[37m\u001b[0m \u001b[1m0s\u001b[0m 9ms/step - loss: 0.0136 - mae: 0.0856 - val_loss: 0.0260 - val_mae: 0.1277\n",
            "Epoch 8/100\n",
            "\u001b[1m12/12\u001b[0m \u001b[32m━━━━━━━━━━━━━━━━━━━━\u001b[0m\u001b[37m\u001b[0m \u001b[1m0s\u001b[0m 8ms/step - loss: 0.0127 - mae: 0.0834 - val_loss: 0.0241 - val_mae: 0.1171\n",
            "Epoch 9/100\n",
            "\u001b[1m12/12\u001b[0m \u001b[32m━━━━━━━━━━━━━━━━━━━━\u001b[0m\u001b[37m\u001b[0m \u001b[1m0s\u001b[0m 8ms/step - loss: 0.0152 - mae: 0.0929 - val_loss: 0.0247 - val_mae: 0.1309\n",
            "Epoch 10/100\n",
            "\u001b[1m12/12\u001b[0m \u001b[32m━━━━━━━━━━━━━━━━━━━━\u001b[0m\u001b[37m\u001b[0m \u001b[1m0s\u001b[0m 8ms/step - loss: 0.0180 - mae: 0.1058 - val_loss: 0.0249 - val_mae: 0.1252\n",
            "Epoch 11/100\n",
            "\u001b[1m12/12\u001b[0m \u001b[32m━━━━━━━━━━━━━━━━━━━━\u001b[0m\u001b[37m\u001b[0m \u001b[1m0s\u001b[0m 8ms/step - loss: 0.0136 - mae: 0.0896 - val_loss: 0.0240 - val_mae: 0.1199\n",
            "Epoch 12/100\n",
            "\u001b[1m12/12\u001b[0m \u001b[32m━━━━━━━━━━━━━━━━━━━━\u001b[0m\u001b[37m\u001b[0m \u001b[1m0s\u001b[0m 25ms/step - loss: 0.0127 - mae: 0.0834 - val_loss: 0.0262 - val_mae: 0.1230\n",
            "Epoch 13/100\n",
            "\u001b[1m12/12\u001b[0m \u001b[32m━━━━━━━━━━━━━━━━━━━━\u001b[0m\u001b[37m\u001b[0m \u001b[1m1s\u001b[0m 21ms/step - loss: 0.0137 - mae: 0.0863 - val_loss: 0.0238 - val_mae: 0.1226\n",
            "Epoch 14/100\n",
            "\u001b[1m12/12\u001b[0m \u001b[32m━━━━━━━━━━━━━━━━━━━━\u001b[0m\u001b[37m\u001b[0m \u001b[1m0s\u001b[0m 22ms/step - loss: 0.0160 - mae: 0.0949 - val_loss: 0.0276 - val_mae: 0.1279\n",
            "Epoch 15/100\n",
            "\u001b[1m12/12\u001b[0m \u001b[32m━━━━━━━━━━━━━━━━━━━━\u001b[0m\u001b[37m\u001b[0m \u001b[1m1s\u001b[0m 17ms/step - loss: 0.0181 - mae: 0.1110 - val_loss: 0.0240 - val_mae: 0.1274\n",
            "Epoch 16/100\n",
            "\u001b[1m12/12\u001b[0m \u001b[32m━━━━━━━━━━━━━━━━━━━━\u001b[0m\u001b[37m\u001b[0m \u001b[1m0s\u001b[0m 27ms/step - loss: 0.0157 - mae: 0.0972 - val_loss: 0.0263 - val_mae: 0.1243\n",
            "Epoch 17/100\n",
            "\u001b[1m12/12\u001b[0m \u001b[32m━━━━━━━━━━━━━━━━━━━━\u001b[0m\u001b[37m\u001b[0m \u001b[1m1s\u001b[0m 20ms/step - loss: 0.0134 - mae: 0.0881 - val_loss: 0.0272 - val_mae: 0.1313\n",
            "Epoch 18/100\n",
            "\u001b[1m12/12\u001b[0m \u001b[32m━━━━━━━━━━━━━━━━━━━━\u001b[0m\u001b[37m\u001b[0m \u001b[1m0s\u001b[0m 18ms/step - loss: 0.0148 - mae: 0.0936 - val_loss: 0.0238 - val_mae: 0.1141\n",
            "Epoch 19/100\n",
            "\u001b[1m12/12\u001b[0m \u001b[32m━━━━━━━━━━━━━━━━━━━━\u001b[0m\u001b[37m\u001b[0m \u001b[1m0s\u001b[0m 15ms/step - loss: 0.0129 - mae: 0.0834 - val_loss: 0.0254 - val_mae: 0.1197\n",
            "Epoch 20/100\n",
            "\u001b[1m12/12\u001b[0m \u001b[32m━━━━━━━━━━━━━━━━━━━━\u001b[0m\u001b[37m\u001b[0m \u001b[1m0s\u001b[0m 16ms/step - loss: 0.0148 - mae: 0.0942 - val_loss: 0.0249 - val_mae: 0.1181\n",
            "Epoch 21/100\n",
            "\u001b[1m12/12\u001b[0m \u001b[32m━━━━━━━━━━━━━━━━━━━━\u001b[0m\u001b[37m\u001b[0m \u001b[1m0s\u001b[0m 22ms/step - loss: 0.0150 - mae: 0.0943 - val_loss: 0.0276 - val_mae: 0.1285\n",
            "Epoch 22/100\n",
            "\u001b[1m12/12\u001b[0m \u001b[32m━━━━━━━━━━━━━━━━━━━━\u001b[0m\u001b[37m\u001b[0m \u001b[1m0s\u001b[0m 16ms/step - loss: 0.0152 - mae: 0.0924 - val_loss: 0.0226 - val_mae: 0.1185\n",
            "Epoch 23/100\n",
            "\u001b[1m12/12\u001b[0m \u001b[32m━━━━━━━━━━━━━━━━━━━━\u001b[0m\u001b[37m\u001b[0m \u001b[1m0s\u001b[0m 17ms/step - loss: 0.0116 - mae: 0.0826 - val_loss: 0.0277 - val_mae: 0.1254\n",
            "Epoch 24/100\n",
            "\u001b[1m12/12\u001b[0m \u001b[32m━━━━━━━━━━━━━━━━━━━━\u001b[0m\u001b[37m\u001b[0m \u001b[1m0s\u001b[0m 18ms/step - loss: 0.0146 - mae: 0.0936 - val_loss: 0.0266 - val_mae: 0.1286\n",
            "Epoch 25/100\n",
            "\u001b[1m12/12\u001b[0m \u001b[32m━━━━━━━━━━━━━━━━━━━━\u001b[0m\u001b[37m\u001b[0m \u001b[1m0s\u001b[0m 23ms/step - loss: 0.0134 - mae: 0.0949 - val_loss: 0.0292 - val_mae: 0.1230\n",
            "Epoch 26/100\n",
            "\u001b[1m12/12\u001b[0m \u001b[32m━━━━━━━━━━━━━━━━━━━━\u001b[0m\u001b[37m\u001b[0m \u001b[1m1s\u001b[0m 35ms/step - loss: 0.0116 - mae: 0.0772 - val_loss: 0.0252 - val_mae: 0.1204\n",
            "Epoch 27/100\n",
            "\u001b[1m12/12\u001b[0m \u001b[32m━━━━━━━━━━━━━━━━━━━━\u001b[0m\u001b[37m\u001b[0m \u001b[1m1s\u001b[0m 51ms/step - loss: 0.0124 - mae: 0.0835 - val_loss: 0.0236 - val_mae: 0.1169\n",
            "Epoch 28/100\n",
            "\u001b[1m12/12\u001b[0m \u001b[32m━━━━━━━━━━━━━━━━━━━━\u001b[0m\u001b[37m\u001b[0m \u001b[1m1s\u001b[0m 46ms/step - loss: 0.0128 - mae: 0.0861 - val_loss: 0.0240 - val_mae: 0.1160\n",
            "Epoch 29/100\n",
            "\u001b[1m12/12\u001b[0m \u001b[32m━━━━━━━━━━━━━━━━━━━━\u001b[0m\u001b[37m\u001b[0m \u001b[1m1s\u001b[0m 41ms/step - loss: 0.0156 - mae: 0.0961 - val_loss: 0.0262 - val_mae: 0.1328\n",
            "Epoch 30/100\n",
            "\u001b[1m12/12\u001b[0m \u001b[32m━━━━━━━━━━━━━━━━━━━━\u001b[0m\u001b[37m\u001b[0m \u001b[1m1s\u001b[0m 35ms/step - loss: 0.0130 - mae: 0.0884 - val_loss: 0.0227 - val_mae: 0.1102\n",
            "Epoch 31/100\n",
            "\u001b[1m12/12\u001b[0m \u001b[32m━━━━━━━━━━━━━━━━━━━━\u001b[0m\u001b[37m\u001b[0m \u001b[1m0s\u001b[0m 33ms/step - loss: 0.0126 - mae: 0.0807 - val_loss: 0.0290 - val_mae: 0.1209\n",
            "Epoch 32/100\n",
            "\u001b[1m12/12\u001b[0m \u001b[32m━━━━━━━━━━━━━━━━━━━━\u001b[0m\u001b[37m\u001b[0m \u001b[1m0s\u001b[0m 21ms/step - loss: 0.0123 - mae: 0.0792 - val_loss: 0.0222 - val_mae: 0.1134\n",
            "Epoch 33/100\n",
            "\u001b[1m12/12\u001b[0m \u001b[32m━━━━━━━━━━━━━━━━━━━━\u001b[0m\u001b[37m\u001b[0m \u001b[1m0s\u001b[0m 24ms/step - loss: 0.0121 - mae: 0.0854 - val_loss: 0.0280 - val_mae: 0.1282\n",
            "Epoch 34/100\n",
            "\u001b[1m12/12\u001b[0m \u001b[32m━━━━━━━━━━━━━━━━━━━━\u001b[0m\u001b[37m\u001b[0m \u001b[1m1s\u001b[0m 14ms/step - loss: 0.0126 - mae: 0.0806 - val_loss: 0.0236 - val_mae: 0.1118\n",
            "Epoch 35/100\n",
            "\u001b[1m12/12\u001b[0m \u001b[32m━━━━━━━━━━━━━━━━━━━━\u001b[0m\u001b[37m\u001b[0m \u001b[1m0s\u001b[0m 17ms/step - loss: 0.0125 - mae: 0.0843 - val_loss: 0.0391 - val_mae: 0.1506\n",
            "Epoch 36/100\n",
            "\u001b[1m12/12\u001b[0m \u001b[32m━━━━━━━━━━━━━━━━━━━━\u001b[0m\u001b[37m\u001b[0m \u001b[1m0s\u001b[0m 16ms/step - loss: 0.0158 - mae: 0.0953 - val_loss: 0.0250 - val_mae: 0.1188\n",
            "Epoch 37/100\n",
            "\u001b[1m12/12\u001b[0m \u001b[32m━━━━━━━━━━━━━━━━━━━━\u001b[0m\u001b[37m\u001b[0m \u001b[1m0s\u001b[0m 33ms/step - loss: 0.0109 - mae: 0.0784 - val_loss: 0.0220 - val_mae: 0.1085\n",
            "Epoch 38/100\n",
            "\u001b[1m12/12\u001b[0m \u001b[32m━━━━━━━━━━━━━━━━━━━━\u001b[0m\u001b[37m\u001b[0m \u001b[1m0s\u001b[0m 21ms/step - loss: 0.0100 - mae: 0.0748 - val_loss: 0.0242 - val_mae: 0.1158\n",
            "Epoch 39/100\n",
            "\u001b[1m12/12\u001b[0m \u001b[32m━━━━━━━━━━━━━━━━━━━━\u001b[0m\u001b[37m\u001b[0m \u001b[1m0s\u001b[0m 12ms/step - loss: 0.0116 - mae: 0.0784 - val_loss: 0.0231 - val_mae: 0.1121\n",
            "Epoch 40/100\n",
            "\u001b[1m12/12\u001b[0m \u001b[32m━━━━━━━━━━━━━━━━━━━━\u001b[0m\u001b[37m\u001b[0m \u001b[1m0s\u001b[0m 20ms/step - loss: 0.0117 - mae: 0.0799 - val_loss: 0.0272 - val_mae: 0.1242\n",
            "Epoch 41/100\n",
            "\u001b[1m12/12\u001b[0m \u001b[32m━━━━━━━━━━━━━━━━━━━━\u001b[0m\u001b[37m\u001b[0m \u001b[1m0s\u001b[0m 14ms/step - loss: 0.0130 - mae: 0.0825 - val_loss: 0.0286 - val_mae: 0.1293\n",
            "Epoch 42/100\n",
            "\u001b[1m12/12\u001b[0m \u001b[32m━━━━━━━━━━━━━━━━━━━━\u001b[0m\u001b[37m\u001b[0m \u001b[1m0s\u001b[0m 14ms/step - loss: 0.0133 - mae: 0.0896 - val_loss: 0.0214 - val_mae: 0.1077\n",
            "Epoch 43/100\n",
            "\u001b[1m12/12\u001b[0m \u001b[32m━━━━━━━━━━━━━━━━━━━━\u001b[0m\u001b[37m\u001b[0m \u001b[1m0s\u001b[0m 13ms/step - loss: 0.0112 - mae: 0.0791 - val_loss: 0.0262 - val_mae: 0.1281\n",
            "Epoch 44/100\n",
            "\u001b[1m12/12\u001b[0m \u001b[32m━━━━━━━━━━━━━━━━━━━━\u001b[0m\u001b[37m\u001b[0m \u001b[1m0s\u001b[0m 19ms/step - loss: 0.0114 - mae: 0.0788 - val_loss: 0.0211 - val_mae: 0.1085\n",
            "Epoch 45/100\n",
            "\u001b[1m12/12\u001b[0m \u001b[32m━━━━━━━━━━━━━━━━━━━━\u001b[0m\u001b[37m\u001b[0m \u001b[1m0s\u001b[0m 18ms/step - loss: 0.0101 - mae: 0.0720 - val_loss: 0.0227 - val_mae: 0.1101\n",
            "Epoch 46/100\n",
            "\u001b[1m12/12\u001b[0m \u001b[32m━━━━━━━━━━━━━━━━━━━━\u001b[0m\u001b[37m\u001b[0m \u001b[1m0s\u001b[0m 16ms/step - loss: 0.0107 - mae: 0.0690 - val_loss: 0.0243 - val_mae: 0.1139\n",
            "Epoch 47/100\n",
            "\u001b[1m12/12\u001b[0m \u001b[32m━━━━━━━━━━━━━━━━━━━━\u001b[0m\u001b[37m\u001b[0m \u001b[1m0s\u001b[0m 15ms/step - loss: 0.0117 - mae: 0.0759 - val_loss: 0.0250 - val_mae: 0.1251\n",
            "Epoch 48/100\n",
            "\u001b[1m12/12\u001b[0m \u001b[32m━━━━━━━━━━━━━━━━━━━━\u001b[0m\u001b[37m\u001b[0m \u001b[1m0s\u001b[0m 20ms/step - loss: 0.0155 - mae: 0.1003 - val_loss: 0.0279 - val_mae: 0.1281\n",
            "Epoch 49/100\n",
            "\u001b[1m12/12\u001b[0m \u001b[32m━━━━━━━━━━━━━━━━━━━━\u001b[0m\u001b[37m\u001b[0m \u001b[1m0s\u001b[0m 17ms/step - loss: 0.0126 - mae: 0.0859 - val_loss: 0.0254 - val_mae: 0.1227\n",
            "Epoch 50/100\n",
            "\u001b[1m12/12\u001b[0m \u001b[32m━━━━━━━━━━━━━━━━━━━━\u001b[0m\u001b[37m\u001b[0m \u001b[1m0s\u001b[0m 23ms/step - loss: 0.0122 - mae: 0.0830 - val_loss: 0.0238 - val_mae: 0.1130\n",
            "Epoch 51/100\n",
            "\u001b[1m12/12\u001b[0m \u001b[32m━━━━━━━━━━━━━━━━━━━━\u001b[0m\u001b[37m\u001b[0m \u001b[1m0s\u001b[0m 20ms/step - loss: 0.0131 - mae: 0.0839 - val_loss: 0.0221 - val_mae: 0.1174\n",
            "Epoch 52/100\n",
            "\u001b[1m12/12\u001b[0m \u001b[32m━━━━━━━━━━━━━━━━━━━━\u001b[0m\u001b[37m\u001b[0m \u001b[1m0s\u001b[0m 23ms/step - loss: 0.0113 - mae: 0.0800 - val_loss: 0.0234 - val_mae: 0.1142\n",
            "Epoch 53/100\n",
            "\u001b[1m12/12\u001b[0m \u001b[32m━━━━━━━━━━━━━━━━━━━━\u001b[0m\u001b[37m\u001b[0m \u001b[1m1s\u001b[0m 16ms/step - loss: 0.0135 - mae: 0.0854 - val_loss: 0.0253 - val_mae: 0.1215\n",
            "Epoch 54/100\n",
            "\u001b[1m12/12\u001b[0m \u001b[32m━━━━━━━━━━━━━━━━━━━━\u001b[0m\u001b[37m\u001b[0m \u001b[1m0s\u001b[0m 9ms/step - loss: 0.0123 - mae: 0.0811 - val_loss: 0.0222 - val_mae: 0.1092\n"
          ]
        }
      ]
    },
    {
      "cell_type": "code",
      "source": [
        "import matplotlib.pyplot as plt\n",
        "\n",
        "# Set how many epochs to show\n",
        "epochs_to_show = 10\n",
        "\n",
        "# Prepare data for first 10 epochs\n",
        "epochs = range(1, epochs_to_show + 1)\n",
        "plt.figure(figsize=(12, 6))\n",
        "plt.plot(epochs, history.history['loss'][:epochs_to_show], 'b-', label='Training loss')\n",
        "plt.plot(epochs, history.history['val_loss'][:epochs_to_show], 'r--', label='Validation loss')\n",
        "\n",
        "# If you have 'mae' and 'val_mae' in your history\n",
        "if 'mae' in history.history and 'val_mae' in history.history:\n",
        "    plt.plot(epochs, history.history['mae'][:epochs_to_show], 'g-', label='Training MAE')\n",
        "    plt.plot(epochs, history.history['val_mae'][:epochs_to_show], color='orange', linestyle='--', label='Validation MAE')\n",
        "\n",
        "plt.title('Training and Validation Loss & MAE (First 10 Epochs)')\n",
        "plt.xlabel('Epochs')\n",
        "plt.ylabel('Value')\n",
        "plt.legend()\n",
        "plt.grid(True)\n",
        "plt.show()"
      ],
      "metadata": {
        "colab": {
          "base_uri": "https://localhost:8080/",
          "height": 564
        },
        "id": "waVvPn2-pJl0",
        "outputId": "f1b2456a-b0fb-4284-f31d-4f4d98f03ce6"
      },
      "execution_count": null,
      "outputs": [
        {
          "output_type": "display_data",
          "data": {
            "text/plain": [
              "<Figure size 1200x600 with 1 Axes>"
            ],
            "image/png": "[encoded data removed]"
          },
          "metadata": {}
        }
      ]
    },
    {
      "cell_type": "code",
      "source": [
        "import matplotlib.pyplot as plt\n",
        "\n",
        "# y_test: true values, y_pred: model predictions\n",
        "plt.figure(figsize=(8, 6))\n",
        "plt.scatter(y_test, y_pred, alpha=0.7)\n",
        "plt.plot([y_test.min(), y_test.max()], [y_test.min(), y_test.max()], 'r--')\n",
        "plt.xlabel('Actual Grade (Numeric)')\n",
        "plt.ylabel('Predicted Grade (Numeric)')\n",
        "plt.title('Actual vs. Predicted Grades')\n",
        "plt.grid(True)\n",
        "plt.show()"
      ],
      "metadata": {
        "colab": {
          "base_uri": "https://localhost:8080/",
          "height": 564
        },
        "id": "YHjPvnVZ9EpH",
        "outputId": "b2d7da1a-bd2d-4e84-aa8c-f6fd492fa1fd"
      },
      "execution_count": null,
      "outputs": [
        {
          "output_type": "display_data",
          "data": {
            "text/plain": [
              "<Figure size 800x600 with 1 Axes>"
            ],
            "image/png": "[encoded data removed]"
          },
          "metadata": {}
        }
      ]
    },
    {
      "cell_type": "code",
      "source": [
        "import numpy as np\n",
        "from sklearn.metrics import confusion_matrix, ConfusionMatrixDisplay\n",
        "\n",
        "def num_to_letter_grade(num):\n",
        "    # Adjust thresholds as appropriate for your institution\n",
        "    if num >= 3.7:\n",
        "        return 'A'\n",
        "    elif num >= 3.0:\n",
        "        return 'B'\n",
        "    elif num >= 2.0:\n",
        "        return 'C'\n",
        "    else:\n",
        "        return 'F'\n",
        "\n",
        "y_test_letter = np.array([num_to_letter_grade(x) for x in y_test.flatten()])\n",
        "y_pred_letter = np.array([num_to_letter_grade(x) for x in y_pred.flatten()])\n",
        "\n",
        "cm = confusion_matrix(y_test_letter, y_pred_letter, labels=['A', 'B', 'C', 'F'])\n",
        "disp = ConfusionMatrixDisplay(confusion_matrix=cm, display_labels=['A', 'B', 'C', 'F'])\n",
        "disp.plot(cmap=plt.cm.Blues)\n",
        "plt.title(\"Confusion Matrix (Binned Grades)\")\n",
        "plt.show()"
      ],
      "metadata": {
        "colab": {
          "base_uri": "https://localhost:8080/",
          "height": 472
        },
        "id": "fvig74tb9ID_",
        "outputId": "ed6c54eb-c5be-4ebb-e4ee-814f9b77c413"
      },
      "execution_count": null,
      "outputs": [
        {
          "output_type": "display_data",
          "data": {
            "text/plain": [
              "<Figure size 640x480 with 2 Axes>"
            ],
            "image/png": "[encoded data removed]"
          },
          "metadata": {}
        }
      ]
    },
    {
      "cell_type": "markdown",
      "source": [
        "User Input"
      ],
      "metadata": {
        "id": "2TYNlPxt2Xiy"
      }
    },
    {
      "cell_type": "code",
      "source": [
        "import numpy as np\n",
        "import joblib\n",
        "from tensorflow.keras.models import load_model\n",
        "import pandas as pd # Import pandas to create a DataFrame for the new input\n",
        "\n",
        "# 1. Define input questions and allowed options\n",
        "questions = [\n",
        "    {\n",
        "        \"field\": \"Study Hours per Day\",\n",
        "        \"question\": \"How many hours do you typically study per day (outside of lectures)?\",\n",
        "        \"options\": [\n",
        "            \"Less than 1 hour\",\n",
        "            \"1 - 2 hours\",\n",
        "            \"2 - 4 hours\",\n",
        "            \"more than 4 hours\"\n",
        "        ]\n",
        "    },\n",
        "    {\n",
        "        \"field\": \"Lecture Attendance\",\n",
        "        \"question\": \"How frequently do you attend lectures/tutorials?\",\n",
        "        \"options\": [\n",
        "            \"Always(100%)\",\n",
        "            \"Often (75 - 99%)\",\n",
        "            \"Sometimes(50 - 74%)\",\n",
        "            \"Rarely (25 - 49%)\",\n",
        "            \"Very rarely (1 - 24%)\",\n",
        "            \"Never(0%)\"\n",
        "        ]\n",
        "    },\n",
        "    {\n",
        "        \"field\": \"Assignment Completion on Time\",\n",
        "        \"question\": \"How often do you complete assignments on time?\",\n",
        "        \"options\": [\n",
        "            \"Always (100%)\",\n",
        "            \"Often (75 - 99%)\",\n",
        "            \"Sometimes (50 - 74%)\",\n",
        "            \"Rarely (25 - 49%)\",\n",
        "            \"Very rarely (1 - 24%)\",\n",
        "            \"Never(0%)\"\n",
        "        ]\n",
        "    },\n",
        "    {\n",
        "        \"field\": \"CGPA / GPA\",\n",
        "        \"question\": \"What is your average CGPA or latest semester GPA?\",\n",
        "        \"options\": [\n",
        "            \"Above 3.5\",\n",
        "            \"3.0 – 3.5\",\n",
        "            \"2.5 – 3.0\",\n",
        "            \"2.0 – 2.5\",\n",
        "            \"Below 2.0\"\n",
        "        ]\n",
        "    },\n",
        "    {\n",
        "        \"field\": \"Note-Taking Method\",\n",
        "        \"question\": \"What is your primary note-taking method during studies?\",\n",
        "        \"options\": [\n",
        "            \"I mostly take my own notes\",\n",
        "            \"I mostly rely on class slides\",\n",
        "            \"I take notes and refer to slides equally\",\n",
        "            \"I rely only on class slides\"\n",
        "        ]\n",
        "    },\n",
        "    {\n",
        "        \"field\": \"Study Schedule\",\n",
        "        \"question\": \"How would you describe your study schedule?\",\n",
        "        \"options\": [\n",
        "            \"I always follow a fixed study schedule\",\n",
        "            \"I usually follow a schedule but adjust it occasionally\",\n",
        "            \"I study randomly most of the time\",\n",
        "            \"I do not follow any schedule at all\"\n",
        "        ]\n",
        "    },\n",
        "    {\n",
        "        \"field\": \"Best Study Method\",\n",
        "        \"question\": \"What study method works best for you?\",\n",
        "        \"options\": [\n",
        "            \"Practicing with past papers or questions\",\n",
        "            \"Studying alone (self-study)\",\n",
        "            \"Using online resources (e.g., YouTube, MOOCs)\",\n",
        "            \"Studying in groups\",\n",
        "            \"Attending revision classes or extra tutorials\",\n",
        "            \"Reading class slides and textbooks only\",\n",
        "            \"No specific method – varies each time\"\n",
        "        ]\n",
        "    }\n",
        "]\n",
        "\n",
        "# 2. Encoding maps\n",
        "study_hours_map = {\n",
        "    \"Less than 1 hour\": 0.5,\n",
        "    \"1 - 2 hours\": 1.5,\n",
        "    \"2 - 4 hours\": 3,\n",
        "    \"more than 4 hours\": 5,\n",
        "}\n",
        "attendance_map = {\n",
        "    \"Always(100%)\": 1.0,\n",
        "    \"Often (75 - 99%)\": 0.87,\n",
        "    \"Sometimes(50 - 74%)\": 0.62,\n",
        "    \"Rarely (25 - 49%)\": 0.37,\n",
        "    \"Very rarely (1 - 24%)\": 0.12,\n",
        "    \"Never(0%)\": 0.0,\n",
        "}\n",
        "assignment_map = {\n",
        "    \"Always (100%)\": 1.0,\n",
        "    \"Often (75 - 99%)\": 0.87,\n",
        "    \"Sometimes (50 - 74%)\": 0.62,\n",
        "    \"Rarely (25 - 49%)\": 0.37,\n",
        "    \"Very rarely (1 - 24%)\": 0.12,\n",
        "    \"Never(0%)\": 0.0,\n",
        "}\n",
        "\n",
        "gpa_map = {\n",
        "    \"Above 3.5\": 3.75,\n",
        "    \"3.0 – 3.5\": 3.25,\n",
        "    \"2.5 – 3.0\": 2.75,\n",
        "    \"2.0 – 2.5\": 2.25,\n",
        "    \"Below 2.0\": 1.75,\n",
        "}\n",
        "# Handle possible dash variants\n",
        "gpa_map_flexible = {k.replace('–', '-'): v for k, v in gpa_map.items()}\n",
        "\n",
        "# 3. Ask questions interactively\n",
        "user_answers = {}\n",
        "for q in questions:\n",
        "    print('\\n' + q[\"question\"])\n",
        "    for idx, opt in enumerate(q[\"options\"]):\n",
        "        print(f\"{idx+1}. {opt}\")\n",
        "    while True:\n",
        "        try:\n",
        "            user_choice = int(input(\"Enter the number of your choice: \").strip())\n",
        "            if 1 <= user_choice <= len(q[\"options\"]):\n",
        "                user_answers[q[\"field\"]] = q[\"options\"][user_choice-1]\n",
        "                break\n",
        "            else:\n",
        "                print(\"Invalid choice. Please enter a valid number.\")\n",
        "        except ValueError:\n",
        "            print(\"Please enter a number.\")\n",
        "\n",
        "# 4. Load the feature names used during training\n",
        "feature_cols = joblib.load(\"feature_cols.save\")\n",
        "\n",
        "# 5. Build input feature vector using a dictionary to ensure correct order and inclusion\n",
        "input_data = {}\n",
        "\n",
        "# Add numeric features\n",
        "input_data[\"Study_Hours_Num\"] = study_hours_map[user_answers[\"Study Hours per Day\"]]\n",
        "input_data[\"Lecture_Attendance_Num\"] = attendance_map[user_answers[\"Lecture Attendance\"]]\n",
        "input_data[\"Assignment_Completion_Num\"] = assignment_map[user_answers[\"Assignment Completion on Time\"]]\n",
        "input_data[\"GPA_Num\"] = gpa_map_flexible.get(user_answers[\"CGPA / GPA\"].replace('–', '-'), 2.5)\n",
        "\n",
        "# Add one-hot encoded features, ensuring all feature_cols are present with 0 or 1\n",
        "for col in feature_cols:\n",
        "    if col.startswith(\"Note-Taking Method_\"):\n",
        "        option = col.replace(\"Note-Taking Method_\", \"\")\n",
        "        input_data[col] = 1.0 if user_answers[\"Note-Taking Method\"] == option else 0.0\n",
        "    elif col.startswith(\"Study Schedule_\"):\n",
        "        option = col.replace(\"Study Schedule_\", \"\")\n",
        "        input_data[col] = 1.0 if user_answers[\"Study Schedule\"] == option else 0.0\n",
        "    elif col.startswith(\"Best Study Method_\"):\n",
        "        option = col.replace(\"Best Study Method_\", \"\")\n",
        "        # Handle the unicode dash in \"No specific method – varies each time\"\n",
        "        if \"No specific method – varies each time\" in option:\n",
        "             option = option.replace('–', '-')\n",
        "             user_answer_cleaned = user_answers[\"Best Study Method\"].replace('–', '-')\n",
        "             input_data[col] = 1.0 if user_answer_cleaned == option else 0.0\n",
        "        else:\n",
        "             input_data[col] = 1.0 if user_answers[\"Best Study Method\"] == option else 0.0\n",
        "    # Ensure numeric columns are in the dictionary even if they are already added\n",
        "    elif col not in input_data:\n",
        "         # This case should ideally not be reached if the initial numeric features are added correctly\n",
        "         # but is included for robustness. You might need to handle other engineered features here as well\n",
        "         pass\n",
        "\n",
        "\n",
        "# Create a DataFrame from the input data, ensuring columns are in the same order as feature_cols\n",
        "X_new_df = pd.DataFrame([input_data])[feature_cols]\n",
        "\n",
        "# Convert to numpy array for scaling and prediction\n",
        "X_new = X_new_df.values.astype(np.float32)\n",
        "\n",
        "\n",
        "# 6. Load scaler and model\n",
        "scaler = joblib.load(\"scaler.save\")\n",
        "X_new_scaled = scaler.transform(X_new)\n",
        "model = load_model(\"student_performance_model.keras\")\n",
        "\n",
        "# 7. Predict\n",
        "pred_grade = model.predict(X_new_scaled)[0,0]\n",
        "def num_to_grade(num):\n",
        "    if num >= 3.85:\n",
        "        return \"A+\"\n",
        "    elif num >= 3.7:\n",
        "        return \"A\"\n",
        "    elif num >= 3.3:\n",
        "        return \"A-\"\n",
        "    elif num >= 3.0:\n",
        "        return \"B+\"\n",
        "    elif num >= 2.7:\n",
        "        return \"B\"\n",
        "    elif num >= 2.3:\n",
        "        return \"C+\"\n",
        "    elif num >= 2.0:\n",
        "        return \"C\"\n",
        "    elif num >= 1.7:\n",
        "        return \"C-\"\n",
        "    elif num >= 1.3:\n",
        "        return \"D+\"\n",
        "    elif num >= 1.0:\n",
        "        return \"D\" # Changed D to 1.0 in grade_map, so this should align.\n",
        "    else:\n",
        "        return \"F\"\n",
        "\n",
        "pred_letter = num_to_grade(pred_grade)\n",
        "\n",
        "print(\"\\n--- Prediction Result ---\")\n",
        "print(f\"Predicted Grade (numeric): {pred_grade:.2f}\")\n",
        "print(f\"Predicted Grade (letter): {pred_letter}\")\n",
        "\n",
        "# 8. Motivation message\n",
        "if pred_grade >= 3.7:\n",
        "    message = \"Excellent work! Keep up your great study habits and motivation!\"\n",
        "elif pred_grade >= 3.0:\n",
        "    message = \"Very good! You're on track for strong academic success. Keep pushing yourself a little more!\"\n",
        "elif pred_grade >= 2.0:\n",
        "    message = \"You're doing okay, but with more consistency and effort, you can achieve even better results!\"\n",
        "else:\n",
        "    message = \"Don't be discouraged! Every student can improve. Try to focus on regular habits and ask for help when needed.\"\n",
        "\n",
        "print(f\"\\nMotivation: {message}\")"
      ],
      "metadata": {
        "colab": {
          "base_uri": "https://localhost:8080/"
        },
        "id": "_D1rZWLn7irk",
        "outputId": "e35e5bd0-c94d-4f18-812f-8209c720620c"
      },
      "execution_count": null,
      "outputs": [
        {
          "output_type": "stream",
          "name": "stdout",
          "text": [
            "\n",
            "How many hours do you typically study per day (outside of lectures)?\n",
            "1. Less than 1 hour\n",
            "2. 1 - 2 hours\n",
            "3. 2 - 4 hours\n",
            "4. more than 4 hours\n",
            "Enter the number of your choice: 4\n",
            "\n",
            "How frequently do you attend lectures/tutorials?\n",
            "1. Always(100%)\n",
            "2. Often (75 - 99%)\n",
            "3. Sometimes(50 - 74%)\n",
            "4. Rarely (25 - 49%)\n",
            "5. Very rarely (1 - 24%)\n",
            "6. Never(0%)\n",
            "Enter the number of your choice: 2\n",
            "\n",
            "How often do you complete assignments on time?\n",
            "1. Always (100%)\n",
            "2. Often (75 - 99%)\n",
            "3. Sometimes (50 - 74%)\n",
            "4. Rarely (25 - 49%)\n",
            "5. Very rarely (1 - 24%)\n",
            "6. Never(0%)\n",
            "Enter the number of your choice: 2\n",
            "\n",
            "What is your average CGPA or latest semester GPA?\n",
            "1. Above 3.5\n",
            "2. 3.0 – 3.5\n",
            "3. 2.5 – 3.0\n",
            "4. 2.0 – 2.5\n",
            "5. Below 2.0\n",
            "Enter the number of your choice: 5\n",
            "\n",
            "What is your primary note-taking method during studies?\n",
            "1. I mostly take my own notes\n",
            "2. I mostly rely on class slides\n",
            "3. I take notes and refer to slides equally\n",
            "4. I rely only on class slides\n",
            "Enter the number of your choice: 3\n",
            "\n",
            "How would you describe your study schedule?\n",
            "1. I always follow a fixed study schedule\n",
            "2. I usually follow a schedule but adjust it occasionally\n",
            "3. I study randomly most of the time\n",
            "4. I do not follow any schedule at all\n",
            "Enter the number of your choice: 3\n",
            "\n",
            "What study method works best for you?\n",
            "1. Practicing with past papers or questions\n",
            "2. Studying alone (self-study)\n",
            "3. Using online resources (e.g., YouTube, MOOCs)\n",
            "4. Studying in groups\n",
            "5. Attending revision classes or extra tutorials\n",
            "6. Reading class slides and textbooks only\n",
            "7. No specific method – varies each time\n",
            "Enter the number of your choice: 7\n",
            "\u001b[1m1/1\u001b[0m \u001b[32m━━━━━━━━━━━━━━━━━━━━\u001b[0m\u001b[37m\u001b[0m \u001b[1m0s\u001b[0m 88ms/step\n",
            "\n",
            "--- Prediction Result ---\n",
            "Predicted Grade (numeric): 2.57\n",
            "Predicted Grade (letter): C+\n",
            "\n",
            "Motivation: You're doing okay, but with more consistency and effort, you can achieve even better results!\n"
          ]
        }
      ]
    }
  ]
}